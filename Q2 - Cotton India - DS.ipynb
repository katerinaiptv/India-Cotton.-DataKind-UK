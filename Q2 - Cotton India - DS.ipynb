{
 "cells": [
  {
   "cell_type": "markdown",
   "metadata": {},
   "source": [
    "# Exploring the India Cotton Dataset for clustering"
   ]
  },
  {
   "cell_type": "code",
   "execution_count": 1,
   "metadata": {},
   "outputs": [],
   "source": [
    "import pandas as pd\n",
    "import numpy as np\n",
    "pd.set_option('display.max_rows', 100)\n",
    "import pandas_profiling\n",
    "import matplotlib.pyplot as plt\n",
    "import seaborn as sns\n",
    "from pylab import rcParams\n",
    "rcParams['figure.figsize'] = 12, 10"
   ]
  },
  {
   "cell_type": "markdown",
   "metadata": {},
   "source": [
    "### Loading data"
   ]
  },
  {
   "cell_type": "code",
   "execution_count": 2,
   "metadata": {},
   "outputs": [],
   "source": [
    "df = pd.read_excel('SOLIDARIDAD - DATASETS/INDIA_COTTON/IN_cotton_survey.xlsx')"
   ]
  },
  {
   "cell_type": "code",
   "execution_count": 3,
   "metadata": {},
   "outputs": [
    {
     "data": {
      "text/html": [
       "<div>\n",
       "<style scoped>\n",
       "    .dataframe tbody tr th:only-of-type {\n",
       "        vertical-align: middle;\n",
       "    }\n",
       "\n",
       "    .dataframe tbody tr th {\n",
       "        vertical-align: top;\n",
       "    }\n",
       "\n",
       "    .dataframe thead th {\n",
       "        text-align: right;\n",
       "    }\n",
       "</style>\n",
       "<table border=\"1\" class=\"dataframe\">\n",
       "  <thead>\n",
       "    <tr style=\"text-align: right;\">\n",
       "      <th></th>\n",
       "      <th>0</th>\n",
       "      <th>1</th>\n",
       "      <th>2</th>\n",
       "      <th>3</th>\n",
       "      <th>4</th>\n",
       "    </tr>\n",
       "  </thead>\n",
       "  <tbody>\n",
       "    <tr>\n",
       "      <th>farmer_id</th>\n",
       "      <td>c1</td>\n",
       "      <td>c10</td>\n",
       "      <td>c11</td>\n",
       "      <td>c12</td>\n",
       "      <td>c13</td>\n",
       "    </tr>\n",
       "    <tr>\n",
       "      <th>group</th>\n",
       "      <td>control</td>\n",
       "      <td>control</td>\n",
       "      <td>control</td>\n",
       "      <td>control</td>\n",
       "      <td>control</td>\n",
       "    </tr>\n",
       "    <tr>\n",
       "      <th>adaptation_score_abs</th>\n",
       "      <td>20</td>\n",
       "      <td>8</td>\n",
       "      <td>19</td>\n",
       "      <td>20</td>\n",
       "      <td>17</td>\n",
       "    </tr>\n",
       "    <tr>\n",
       "      <th>mitigation_score_abs</th>\n",
       "      <td>-7</td>\n",
       "      <td>-2</td>\n",
       "      <td>-5</td>\n",
       "      <td>-5</td>\n",
       "      <td>-5</td>\n",
       "    </tr>\n",
       "    <tr>\n",
       "      <th>adaptation_score_normal</th>\n",
       "      <td>47.2222</td>\n",
       "      <td>30.5556</td>\n",
       "      <td>45.8333</td>\n",
       "      <td>47.2222</td>\n",
       "      <td>43.0556</td>\n",
       "    </tr>\n",
       "    <tr>\n",
       "      <th>mitigation_score_normal</th>\n",
       "      <td>39.1304</td>\n",
       "      <td>60.8696</td>\n",
       "      <td>47.8261</td>\n",
       "      <td>47.8261</td>\n",
       "      <td>47.8261</td>\n",
       "    </tr>\n",
       "    <tr>\n",
       "      <th>bank_account</th>\n",
       "      <td>1</td>\n",
       "      <td>1</td>\n",
       "      <td>1</td>\n",
       "      <td>1</td>\n",
       "      <td>1</td>\n",
       "    </tr>\n",
       "    <tr>\n",
       "      <th>bicycle</th>\n",
       "      <td>1</td>\n",
       "      <td>1</td>\n",
       "      <td>2</td>\n",
       "      <td>1</td>\n",
       "      <td>1</td>\n",
       "    </tr>\n",
       "    <tr>\n",
       "      <th>car</th>\n",
       "      <td>2</td>\n",
       "      <td>2</td>\n",
       "      <td>2</td>\n",
       "      <td>2</td>\n",
       "      <td>2</td>\n",
       "    </tr>\n",
       "    <tr>\n",
       "      <th>cell_phone</th>\n",
       "      <td>1</td>\n",
       "      <td>1</td>\n",
       "      <td>1</td>\n",
       "      <td>1</td>\n",
       "      <td>1</td>\n",
       "    </tr>\n",
       "    <tr>\n",
       "      <th>cooler</th>\n",
       "      <td>1</td>\n",
       "      <td>1</td>\n",
       "      <td>1</td>\n",
       "      <td>1</td>\n",
       "      <td>1</td>\n",
       "    </tr>\n",
       "    <tr>\n",
       "      <th>crop_insurance</th>\n",
       "      <td>1</td>\n",
       "      <td>2</td>\n",
       "      <td>2</td>\n",
       "      <td>1</td>\n",
       "      <td>2</td>\n",
       "    </tr>\n",
       "    <tr>\n",
       "      <th>drinking_water</th>\n",
       "      <td>4</td>\n",
       "      <td>4</td>\n",
       "      <td>4</td>\n",
       "      <td>4</td>\n",
       "      <td>4</td>\n",
       "    </tr>\n",
       "    <tr>\n",
       "      <th>education</th>\n",
       "      <td>4</td>\n",
       "      <td>4</td>\n",
       "      <td>4</td>\n",
       "      <td>4</td>\n",
       "      <td>4</td>\n",
       "    </tr>\n",
       "    <tr>\n",
       "      <th>electricity</th>\n",
       "      <td>1</td>\n",
       "      <td>1</td>\n",
       "      <td>1</td>\n",
       "      <td>1</td>\n",
       "      <td>1</td>\n",
       "    </tr>\n",
       "    <tr>\n",
       "      <th>fertiliser</th>\n",
       "      <td>1</td>\n",
       "      <td>1</td>\n",
       "      <td>1</td>\n",
       "      <td>1</td>\n",
       "      <td>1</td>\n",
       "    </tr>\n",
       "    <tr>\n",
       "      <th>fridge</th>\n",
       "      <td>1</td>\n",
       "      <td>1</td>\n",
       "      <td>1</td>\n",
       "      <td>1</td>\n",
       "      <td>1</td>\n",
       "    </tr>\n",
       "    <tr>\n",
       "      <th>housing</th>\n",
       "      <td>2</td>\n",
       "      <td>2</td>\n",
       "      <td>1</td>\n",
       "      <td>1</td>\n",
       "      <td>1</td>\n",
       "    </tr>\n",
       "    <tr>\n",
       "      <th>irrigation_source</th>\n",
       "      <td>1</td>\n",
       "      <td>0</td>\n",
       "      <td>1</td>\n",
       "      <td>1</td>\n",
       "      <td>1</td>\n",
       "    </tr>\n",
       "    <tr>\n",
       "      <th>irrigation_status</th>\n",
       "      <td>1</td>\n",
       "      <td>2</td>\n",
       "      <td>1</td>\n",
       "      <td>1</td>\n",
       "      <td>1</td>\n",
       "    </tr>\n",
       "    <tr>\n",
       "      <th>life_insurance</th>\n",
       "      <td>1</td>\n",
       "      <td>2</td>\n",
       "      <td>1</td>\n",
       "      <td>1</td>\n",
       "      <td>2</td>\n",
       "    </tr>\n",
       "    <tr>\n",
       "      <th>loan</th>\n",
       "      <td>2</td>\n",
       "      <td>2</td>\n",
       "      <td>2</td>\n",
       "      <td>2</td>\n",
       "      <td>2</td>\n",
       "    </tr>\n",
       "    <tr>\n",
       "      <th>motorcycle</th>\n",
       "      <td>1</td>\n",
       "      <td>1</td>\n",
       "      <td>1</td>\n",
       "      <td>1</td>\n",
       "      <td>1</td>\n",
       "    </tr>\n",
       "    <tr>\n",
       "      <th>ploughing_cart</th>\n",
       "      <td>1</td>\n",
       "      <td>2</td>\n",
       "      <td>2</td>\n",
       "      <td>2</td>\n",
       "      <td>2</td>\n",
       "    </tr>\n",
       "    <tr>\n",
       "      <th>seed_source</th>\n",
       "      <td>3</td>\n",
       "      <td>3</td>\n",
       "      <td>3</td>\n",
       "      <td>3</td>\n",
       "      <td>3</td>\n",
       "    </tr>\n",
       "    <tr>\n",
       "      <th>seed_type</th>\n",
       "      <td>1</td>\n",
       "      <td>1</td>\n",
       "      <td>1</td>\n",
       "      <td>1</td>\n",
       "      <td>1</td>\n",
       "    </tr>\n",
       "    <tr>\n",
       "      <th>tractor</th>\n",
       "      <td>2</td>\n",
       "      <td>2</td>\n",
       "      <td>2</td>\n",
       "      <td>2</td>\n",
       "      <td>2</td>\n",
       "    </tr>\n",
       "    <tr>\n",
       "      <th>tv</th>\n",
       "      <td>1</td>\n",
       "      <td>1</td>\n",
       "      <td>1</td>\n",
       "      <td>1</td>\n",
       "      <td>1</td>\n",
       "    </tr>\n",
       "    <tr>\n",
       "      <th>weeder</th>\n",
       "      <td>2</td>\n",
       "      <td>2</td>\n",
       "      <td>2</td>\n",
       "      <td>2</td>\n",
       "      <td>2</td>\n",
       "    </tr>\n",
       "    <tr>\n",
       "      <th>landholding</th>\n",
       "      <td>4</td>\n",
       "      <td>3</td>\n",
       "      <td>4</td>\n",
       "      <td>3</td>\n",
       "      <td>2</td>\n",
       "    </tr>\n",
       "    <tr>\n",
       "      <th>own_land</th>\n",
       "      <td>4</td>\n",
       "      <td>3</td>\n",
       "      <td>4</td>\n",
       "      <td>3</td>\n",
       "      <td>2</td>\n",
       "    </tr>\n",
       "    <tr>\n",
       "      <th>leased_land</th>\n",
       "      <td>0</td>\n",
       "      <td>0</td>\n",
       "      <td>0</td>\n",
       "      <td>0</td>\n",
       "      <td>0</td>\n",
       "    </tr>\n",
       "    <tr>\n",
       "      <th>irrigated_land</th>\n",
       "      <td>NaN</td>\n",
       "      <td>NaN</td>\n",
       "      <td>NaN</td>\n",
       "      <td>NaN</td>\n",
       "      <td>NaN</td>\n",
       "    </tr>\n",
       "    <tr>\n",
       "      <th>staple_lengt</th>\n",
       "      <td>2</td>\n",
       "      <td>2</td>\n",
       "      <td>2</td>\n",
       "      <td>2</td>\n",
       "      <td>2</td>\n",
       "    </tr>\n",
       "    <tr>\n",
       "      <th>presow_acre</th>\n",
       "      <td>0.5</td>\n",
       "      <td>0.5</td>\n",
       "      <td>0.5</td>\n",
       "      <td>0.5</td>\n",
       "      <td>0.5</td>\n",
       "    </tr>\n",
       "    <tr>\n",
       "      <th>preharvest_acre</th>\n",
       "      <td>0.5</td>\n",
       "      <td>0.5</td>\n",
       "      <td>0.5</td>\n",
       "      <td>0.5</td>\n",
       "      <td>0.5</td>\n",
       "    </tr>\n",
       "    <tr>\n",
       "      <th>postharvest_acre</th>\n",
       "      <td>0.5</td>\n",
       "      <td>0.5</td>\n",
       "      <td>0.5</td>\n",
       "      <td>0.5</td>\n",
       "      <td>0.5</td>\n",
       "    </tr>\n",
       "    <tr>\n",
       "      <th>biopesticide</th>\n",
       "      <td>820</td>\n",
       "      <td>570</td>\n",
       "      <td>820</td>\n",
       "      <td>820</td>\n",
       "      <td>520</td>\n",
       "    </tr>\n",
       "    <tr>\n",
       "      <th>seed_estimated</th>\n",
       "      <td>NaN</td>\n",
       "      <td>NaN</td>\n",
       "      <td>NaN</td>\n",
       "      <td>NaN</td>\n",
       "      <td>NaN</td>\n",
       "    </tr>\n",
       "    <tr>\n",
       "      <th>seed_actual</th>\n",
       "      <td>301</td>\n",
       "      <td>252</td>\n",
       "      <td>299</td>\n",
       "      <td>287</td>\n",
       "      <td>269</td>\n",
       "    </tr>\n",
       "    <tr>\n",
       "      <th>productivity_estimated</th>\n",
       "      <td>NaN</td>\n",
       "      <td>NaN</td>\n",
       "      <td>NaN</td>\n",
       "      <td>NaN</td>\n",
       "      <td>NaN</td>\n",
       "    </tr>\n",
       "    <tr>\n",
       "      <th>productivity_actual</th>\n",
       "      <td>301</td>\n",
       "      <td>252</td>\n",
       "      <td>299</td>\n",
       "      <td>287</td>\n",
       "      <td>269</td>\n",
       "    </tr>\n",
       "    <tr>\n",
       "      <th>intercrop_name</th>\n",
       "      <td>Tur</td>\n",
       "      <td>Tur</td>\n",
       "      <td>Tur</td>\n",
       "      <td>Tur</td>\n",
       "      <td>Tur</td>\n",
       "    </tr>\n",
       "    <tr>\n",
       "      <th>intercrop_acre</th>\n",
       "      <td>0</td>\n",
       "      <td>0</td>\n",
       "      <td>0</td>\n",
       "      <td>0</td>\n",
       "      <td>0</td>\n",
       "    </tr>\n",
       "    <tr>\n",
       "      <th>intercrop_harvest</th>\n",
       "      <td>110</td>\n",
       "      <td>82</td>\n",
       "      <td>183</td>\n",
       "      <td>163</td>\n",
       "      <td>120</td>\n",
       "    </tr>\n",
       "    <tr>\n",
       "      <th>intercrop_rate</th>\n",
       "      <td>55</td>\n",
       "      <td>49</td>\n",
       "      <td>54</td>\n",
       "      <td>51</td>\n",
       "      <td>50</td>\n",
       "    </tr>\n",
       "    <tr>\n",
       "      <th>intercrop_income</th>\n",
       "      <td>6050</td>\n",
       "      <td>4018</td>\n",
       "      <td>9882</td>\n",
       "      <td>8313</td>\n",
       "      <td>6000</td>\n",
       "    </tr>\n",
       "    <tr>\n",
       "      <th>income_organic</th>\n",
       "      <td>8015.5</td>\n",
       "      <td>5768.2</td>\n",
       "      <td>7816.8</td>\n",
       "      <td>6960.8</td>\n",
       "      <td>6237.3</td>\n",
       "    </tr>\n",
       "    <tr>\n",
       "      <th>income_intercrop</th>\n",
       "      <td>6050</td>\n",
       "      <td>4018</td>\n",
       "      <td>9882</td>\n",
       "      <td>8313</td>\n",
       "      <td>6000</td>\n",
       "    </tr>\n",
       "    <tr>\n",
       "      <th>income_other</th>\n",
       "      <td>11400</td>\n",
       "      <td>7800</td>\n",
       "      <td>11400</td>\n",
       "      <td>20280</td>\n",
       "      <td>7800</td>\n",
       "    </tr>\n",
       "    <tr>\n",
       "      <th>total_income</th>\n",
       "      <td>25465.5</td>\n",
       "      <td>17586.2</td>\n",
       "      <td>29098.8</td>\n",
       "      <td>35553.8</td>\n",
       "      <td>20037.3</td>\n",
       "    </tr>\n",
       "    <tr>\n",
       "      <th>cotton_sold</th>\n",
       "      <td>301</td>\n",
       "      <td>252</td>\n",
       "      <td>299</td>\n",
       "      <td>287</td>\n",
       "      <td>269</td>\n",
       "    </tr>\n",
       "    <tr>\n",
       "      <th>cotton_price</th>\n",
       "      <td>54.5</td>\n",
       "      <td>54.6</td>\n",
       "      <td>54.2</td>\n",
       "      <td>55.4</td>\n",
       "      <td>53.7</td>\n",
       "    </tr>\n",
       "    <tr>\n",
       "      <th>cotton_income</th>\n",
       "      <td>16404.5</td>\n",
       "      <td>13759.2</td>\n",
       "      <td>16205.8</td>\n",
       "      <td>15899.8</td>\n",
       "      <td>14445.3</td>\n",
       "    </tr>\n",
       "    <tr>\n",
       "      <th>seed_cost</th>\n",
       "      <td>0</td>\n",
       "      <td>0</td>\n",
       "      <td>0</td>\n",
       "      <td>0</td>\n",
       "      <td>0</td>\n",
       "    </tr>\n",
       "    <tr>\n",
       "      <th>irrigation_cost</th>\n",
       "      <td>412</td>\n",
       "      <td>0</td>\n",
       "      <td>412</td>\n",
       "      <td>412</td>\n",
       "      <td>412</td>\n",
       "    </tr>\n",
       "    <tr>\n",
       "      <th>machinery_cost</th>\n",
       "      <td>600</td>\n",
       "      <td>600</td>\n",
       "      <td>600</td>\n",
       "      <td>600</td>\n",
       "      <td>600</td>\n",
       "    </tr>\n",
       "    <tr>\n",
       "      <th>input_cost</th>\n",
       "      <td>3677</td>\n",
       "      <td>3091</td>\n",
       "      <td>3677</td>\n",
       "      <td>3327</td>\n",
       "      <td>2896</td>\n",
       "    </tr>\n",
       "    <tr>\n",
       "      <th>animal_cost</th>\n",
       "      <td>0</td>\n",
       "      <td>800</td>\n",
       "      <td>0</td>\n",
       "      <td>800</td>\n",
       "      <td>800</td>\n",
       "    </tr>\n",
       "    <tr>\n",
       "      <th>labour_cost</th>\n",
       "      <td>3700</td>\n",
       "      <td>3500</td>\n",
       "      <td>3700</td>\n",
       "      <td>3700</td>\n",
       "      <td>3500</td>\n",
       "    </tr>\n",
       "    <tr>\n",
       "      <th>other_cost</th>\n",
       "      <td>0</td>\n",
       "      <td>0</td>\n",
       "      <td>0</td>\n",
       "      <td>100</td>\n",
       "      <td>0</td>\n",
       "    </tr>\n",
       "    <tr>\n",
       "      <th>total_cost</th>\n",
       "      <td>8389</td>\n",
       "      <td>7991</td>\n",
       "      <td>8389</td>\n",
       "      <td>8939</td>\n",
       "      <td>8208</td>\n",
       "    </tr>\n",
       "    <tr>\n",
       "      <th>cows</th>\n",
       "      <td>1</td>\n",
       "      <td>1</td>\n",
       "      <td>1</td>\n",
       "      <td>1</td>\n",
       "      <td>1</td>\n",
       "    </tr>\n",
       "    <tr>\n",
       "      <th>buffalos</th>\n",
       "      <td>2</td>\n",
       "      <td>2</td>\n",
       "      <td>2</td>\n",
       "      <td>1</td>\n",
       "      <td>2</td>\n",
       "    </tr>\n",
       "    <tr>\n",
       "      <th>bulls</th>\n",
       "      <td>2</td>\n",
       "      <td>2</td>\n",
       "      <td>2</td>\n",
       "      <td>1</td>\n",
       "      <td>2</td>\n",
       "    </tr>\n",
       "    <tr>\n",
       "      <th>oxes</th>\n",
       "      <td>1</td>\n",
       "      <td>2</td>\n",
       "      <td>1</td>\n",
       "      <td>2</td>\n",
       "      <td>2</td>\n",
       "    </tr>\n",
       "    <tr>\n",
       "      <th>goats</th>\n",
       "      <td>2</td>\n",
       "      <td>2</td>\n",
       "      <td>2</td>\n",
       "      <td>2</td>\n",
       "      <td>2</td>\n",
       "    </tr>\n",
       "    <tr>\n",
       "      <th>sheep</th>\n",
       "      <td>2</td>\n",
       "      <td>2</td>\n",
       "      <td>2</td>\n",
       "      <td>2</td>\n",
       "      <td>2</td>\n",
       "    </tr>\n",
       "    <tr>\n",
       "      <th>poultry</th>\n",
       "      <td>2</td>\n",
       "      <td>2</td>\n",
       "      <td>2</td>\n",
       "      <td>2</td>\n",
       "      <td>2</td>\n",
       "    </tr>\n",
       "    <tr>\n",
       "      <th>livestock_income</th>\n",
       "      <td>11400</td>\n",
       "      <td>7800</td>\n",
       "      <td>11400</td>\n",
       "      <td>20280</td>\n",
       "      <td>7800</td>\n",
       "    </tr>\n",
       "  </tbody>\n",
       "</table>\n",
       "</div>"
      ],
      "text/plain": [
       "                               0        1        2        3        4\n",
       "farmer_id                     c1      c10      c11      c12      c13\n",
       "group                    control  control  control  control  control\n",
       "adaptation_score_abs          20        8       19       20       17\n",
       "mitigation_score_abs          -7       -2       -5       -5       -5\n",
       "adaptation_score_normal  47.2222  30.5556  45.8333  47.2222  43.0556\n",
       "mitigation_score_normal  39.1304  60.8696  47.8261  47.8261  47.8261\n",
       "bank_account                   1        1        1        1        1\n",
       "bicycle                        1        1        2        1        1\n",
       "car                            2        2        2        2        2\n",
       "cell_phone                     1        1        1        1        1\n",
       "cooler                         1        1        1        1        1\n",
       "crop_insurance                 1        2        2        1        2\n",
       "drinking_water                 4        4        4        4        4\n",
       "education                      4        4        4        4        4\n",
       "electricity                    1        1        1        1        1\n",
       "fertiliser                     1        1        1        1        1\n",
       "fridge                         1        1        1        1        1\n",
       "housing                        2        2        1        1        1\n",
       "irrigation_source              1        0        1        1        1\n",
       "irrigation_status              1        2        1        1        1\n",
       "life_insurance                 1        2        1        1        2\n",
       "loan                           2        2        2        2        2\n",
       "motorcycle                     1        1        1        1        1\n",
       "ploughing_cart                 1        2        2        2        2\n",
       "seed_source                    3        3        3        3        3\n",
       "seed_type                      1        1        1        1        1\n",
       "tractor                        2        2        2        2        2\n",
       "tv                             1        1        1        1        1\n",
       "weeder                         2        2        2        2        2\n",
       "landholding                    4        3        4        3        2\n",
       "own_land                       4        3        4        3        2\n",
       "leased_land                    0        0        0        0        0\n",
       "irrigated_land               NaN      NaN      NaN      NaN      NaN\n",
       "staple_lengt                   2        2        2        2        2\n",
       "presow_acre                  0.5      0.5      0.5      0.5      0.5\n",
       "preharvest_acre              0.5      0.5      0.5      0.5      0.5\n",
       "postharvest_acre             0.5      0.5      0.5      0.5      0.5\n",
       "biopesticide                 820      570      820      820      520\n",
       "seed_estimated               NaN      NaN      NaN      NaN      NaN\n",
       "seed_actual                  301      252      299      287      269\n",
       "productivity_estimated       NaN      NaN      NaN      NaN      NaN\n",
       "productivity_actual          301      252      299      287      269\n",
       "intercrop_name               Tur      Tur      Tur      Tur      Tur\n",
       "intercrop_acre                 0        0        0        0        0\n",
       "intercrop_harvest            110       82      183      163      120\n",
       "intercrop_rate                55       49       54       51       50\n",
       "intercrop_income            6050     4018     9882     8313     6000\n",
       "income_organic            8015.5   5768.2   7816.8   6960.8   6237.3\n",
       "income_intercrop            6050     4018     9882     8313     6000\n",
       "income_other               11400     7800    11400    20280     7800\n",
       "total_income             25465.5  17586.2  29098.8  35553.8  20037.3\n",
       "cotton_sold                  301      252      299      287      269\n",
       "cotton_price                54.5     54.6     54.2     55.4     53.7\n",
       "cotton_income            16404.5  13759.2  16205.8  15899.8  14445.3\n",
       "seed_cost                      0        0        0        0        0\n",
       "irrigation_cost              412        0      412      412      412\n",
       "machinery_cost               600      600      600      600      600\n",
       "input_cost                  3677     3091     3677     3327     2896\n",
       "animal_cost                    0      800        0      800      800\n",
       "labour_cost                 3700     3500     3700     3700     3500\n",
       "other_cost                     0        0        0      100        0\n",
       "total_cost                  8389     7991     8389     8939     8208\n",
       "cows                           1        1        1        1        1\n",
       "buffalos                       2        2        2        1        2\n",
       "bulls                          2        2        2        1        2\n",
       "oxes                           1        2        1        2        2\n",
       "goats                          2        2        2        2        2\n",
       "sheep                          2        2        2        2        2\n",
       "poultry                        2        2        2        2        2\n",
       "livestock_income           11400     7800    11400    20280     7800"
      ]
     },
     "execution_count": 3,
     "metadata": {},
     "output_type": "execute_result"
    }
   ],
   "source": [
    "df.head().T"
   ]
  },
  {
   "cell_type": "markdown",
   "metadata": {},
   "source": [
    "### EDA supported by pandas-profiling library\n",
    "This library writes an HTML file to the root, which explores each of the variables and highlights potential issues between them"
   ]
  },
  {
   "cell_type": "code",
   "execution_count": 4,
   "metadata": {},
   "outputs": [],
   "source": [
    "# profile = df.profile_report(title='Pandas Profiling Report - India Cotton')\n",
    "# profile.to_file(output_file=\"India-Cotton-Profile.html\")"
   ]
  },
  {
   "cell_type": "markdown",
   "metadata": {},
   "source": [
    "### Data Cleaning\n",
    "Using what we learned in the profiling report, clean the dataset"
   ]
  },
  {
   "cell_type": "code",
   "execution_count": 5,
   "metadata": {},
   "outputs": [],
   "source": [
    "# Based on Pandas profiling file, these variables can be dropped due to high correlations or constant value\n",
    "VARS_TO_DROP = ['adaptation_score_normal','cotton_sold','intercrop_harvest','intercrop_income',\n",
    "                'leased_land','mitigation_score_normal','own_land','oxes','preharvest_acre',\n",
    "               'presow_acre','productivity_actual','productivity_estimated','seed_actual','seed_cost',\n",
    "               'seed_estimated','total_income', 'intercrop_acre','seed_source', 'irrigated_land']"
   ]
  },
  {
   "cell_type": "code",
   "execution_count": 6,
   "metadata": {},
   "outputs": [],
   "source": [
    "df = df.drop(columns=VARS_TO_DROP)"
   ]
  },
  {
   "cell_type": "code",
   "execution_count": 7,
   "metadata": {},
   "outputs": [
    {
     "data": {
      "text/html": [
       "<div>\n",
       "<style scoped>\n",
       "    .dataframe tbody tr th:only-of-type {\n",
       "        vertical-align: middle;\n",
       "    }\n",
       "\n",
       "    .dataframe tbody tr th {\n",
       "        vertical-align: top;\n",
       "    }\n",
       "\n",
       "    .dataframe thead th {\n",
       "        text-align: right;\n",
       "    }\n",
       "</style>\n",
       "<table border=\"1\" class=\"dataframe\">\n",
       "  <thead>\n",
       "    <tr style=\"text-align: right;\">\n",
       "      <th></th>\n",
       "      <th>0</th>\n",
       "      <th>1</th>\n",
       "      <th>2</th>\n",
       "      <th>3</th>\n",
       "      <th>4</th>\n",
       "    </tr>\n",
       "  </thead>\n",
       "  <tbody>\n",
       "    <tr>\n",
       "      <th>farmer_id</th>\n",
       "      <td>c1</td>\n",
       "      <td>c10</td>\n",
       "      <td>c11</td>\n",
       "      <td>c12</td>\n",
       "      <td>c13</td>\n",
       "    </tr>\n",
       "    <tr>\n",
       "      <th>group</th>\n",
       "      <td>control</td>\n",
       "      <td>control</td>\n",
       "      <td>control</td>\n",
       "      <td>control</td>\n",
       "      <td>control</td>\n",
       "    </tr>\n",
       "    <tr>\n",
       "      <th>adaptation_score_abs</th>\n",
       "      <td>20</td>\n",
       "      <td>8</td>\n",
       "      <td>19</td>\n",
       "      <td>20</td>\n",
       "      <td>17</td>\n",
       "    </tr>\n",
       "    <tr>\n",
       "      <th>mitigation_score_abs</th>\n",
       "      <td>-7</td>\n",
       "      <td>-2</td>\n",
       "      <td>-5</td>\n",
       "      <td>-5</td>\n",
       "      <td>-5</td>\n",
       "    </tr>\n",
       "    <tr>\n",
       "      <th>bank_account</th>\n",
       "      <td>1</td>\n",
       "      <td>1</td>\n",
       "      <td>1</td>\n",
       "      <td>1</td>\n",
       "      <td>1</td>\n",
       "    </tr>\n",
       "    <tr>\n",
       "      <th>bicycle</th>\n",
       "      <td>1</td>\n",
       "      <td>1</td>\n",
       "      <td>2</td>\n",
       "      <td>1</td>\n",
       "      <td>1</td>\n",
       "    </tr>\n",
       "    <tr>\n",
       "      <th>car</th>\n",
       "      <td>2</td>\n",
       "      <td>2</td>\n",
       "      <td>2</td>\n",
       "      <td>2</td>\n",
       "      <td>2</td>\n",
       "    </tr>\n",
       "    <tr>\n",
       "      <th>cell_phone</th>\n",
       "      <td>1</td>\n",
       "      <td>1</td>\n",
       "      <td>1</td>\n",
       "      <td>1</td>\n",
       "      <td>1</td>\n",
       "    </tr>\n",
       "    <tr>\n",
       "      <th>cooler</th>\n",
       "      <td>1</td>\n",
       "      <td>1</td>\n",
       "      <td>1</td>\n",
       "      <td>1</td>\n",
       "      <td>1</td>\n",
       "    </tr>\n",
       "    <tr>\n",
       "      <th>crop_insurance</th>\n",
       "      <td>1</td>\n",
       "      <td>2</td>\n",
       "      <td>2</td>\n",
       "      <td>1</td>\n",
       "      <td>2</td>\n",
       "    </tr>\n",
       "    <tr>\n",
       "      <th>drinking_water</th>\n",
       "      <td>4</td>\n",
       "      <td>4</td>\n",
       "      <td>4</td>\n",
       "      <td>4</td>\n",
       "      <td>4</td>\n",
       "    </tr>\n",
       "    <tr>\n",
       "      <th>education</th>\n",
       "      <td>4</td>\n",
       "      <td>4</td>\n",
       "      <td>4</td>\n",
       "      <td>4</td>\n",
       "      <td>4</td>\n",
       "    </tr>\n",
       "    <tr>\n",
       "      <th>electricity</th>\n",
       "      <td>1</td>\n",
       "      <td>1</td>\n",
       "      <td>1</td>\n",
       "      <td>1</td>\n",
       "      <td>1</td>\n",
       "    </tr>\n",
       "    <tr>\n",
       "      <th>fertiliser</th>\n",
       "      <td>1</td>\n",
       "      <td>1</td>\n",
       "      <td>1</td>\n",
       "      <td>1</td>\n",
       "      <td>1</td>\n",
       "    </tr>\n",
       "    <tr>\n",
       "      <th>fridge</th>\n",
       "      <td>1</td>\n",
       "      <td>1</td>\n",
       "      <td>1</td>\n",
       "      <td>1</td>\n",
       "      <td>1</td>\n",
       "    </tr>\n",
       "    <tr>\n",
       "      <th>housing</th>\n",
       "      <td>2</td>\n",
       "      <td>2</td>\n",
       "      <td>1</td>\n",
       "      <td>1</td>\n",
       "      <td>1</td>\n",
       "    </tr>\n",
       "    <tr>\n",
       "      <th>irrigation_source</th>\n",
       "      <td>1</td>\n",
       "      <td>0</td>\n",
       "      <td>1</td>\n",
       "      <td>1</td>\n",
       "      <td>1</td>\n",
       "    </tr>\n",
       "    <tr>\n",
       "      <th>irrigation_status</th>\n",
       "      <td>1</td>\n",
       "      <td>2</td>\n",
       "      <td>1</td>\n",
       "      <td>1</td>\n",
       "      <td>1</td>\n",
       "    </tr>\n",
       "    <tr>\n",
       "      <th>life_insurance</th>\n",
       "      <td>1</td>\n",
       "      <td>2</td>\n",
       "      <td>1</td>\n",
       "      <td>1</td>\n",
       "      <td>2</td>\n",
       "    </tr>\n",
       "    <tr>\n",
       "      <th>loan</th>\n",
       "      <td>2</td>\n",
       "      <td>2</td>\n",
       "      <td>2</td>\n",
       "      <td>2</td>\n",
       "      <td>2</td>\n",
       "    </tr>\n",
       "    <tr>\n",
       "      <th>motorcycle</th>\n",
       "      <td>1</td>\n",
       "      <td>1</td>\n",
       "      <td>1</td>\n",
       "      <td>1</td>\n",
       "      <td>1</td>\n",
       "    </tr>\n",
       "    <tr>\n",
       "      <th>ploughing_cart</th>\n",
       "      <td>1</td>\n",
       "      <td>2</td>\n",
       "      <td>2</td>\n",
       "      <td>2</td>\n",
       "      <td>2</td>\n",
       "    </tr>\n",
       "    <tr>\n",
       "      <th>seed_type</th>\n",
       "      <td>1</td>\n",
       "      <td>1</td>\n",
       "      <td>1</td>\n",
       "      <td>1</td>\n",
       "      <td>1</td>\n",
       "    </tr>\n",
       "    <tr>\n",
       "      <th>tractor</th>\n",
       "      <td>2</td>\n",
       "      <td>2</td>\n",
       "      <td>2</td>\n",
       "      <td>2</td>\n",
       "      <td>2</td>\n",
       "    </tr>\n",
       "    <tr>\n",
       "      <th>tv</th>\n",
       "      <td>1</td>\n",
       "      <td>1</td>\n",
       "      <td>1</td>\n",
       "      <td>1</td>\n",
       "      <td>1</td>\n",
       "    </tr>\n",
       "    <tr>\n",
       "      <th>weeder</th>\n",
       "      <td>2</td>\n",
       "      <td>2</td>\n",
       "      <td>2</td>\n",
       "      <td>2</td>\n",
       "      <td>2</td>\n",
       "    </tr>\n",
       "    <tr>\n",
       "      <th>landholding</th>\n",
       "      <td>4</td>\n",
       "      <td>3</td>\n",
       "      <td>4</td>\n",
       "      <td>3</td>\n",
       "      <td>2</td>\n",
       "    </tr>\n",
       "    <tr>\n",
       "      <th>staple_lengt</th>\n",
       "      <td>2</td>\n",
       "      <td>2</td>\n",
       "      <td>2</td>\n",
       "      <td>2</td>\n",
       "      <td>2</td>\n",
       "    </tr>\n",
       "    <tr>\n",
       "      <th>postharvest_acre</th>\n",
       "      <td>0.5</td>\n",
       "      <td>0.5</td>\n",
       "      <td>0.5</td>\n",
       "      <td>0.5</td>\n",
       "      <td>0.5</td>\n",
       "    </tr>\n",
       "    <tr>\n",
       "      <th>biopesticide</th>\n",
       "      <td>820</td>\n",
       "      <td>570</td>\n",
       "      <td>820</td>\n",
       "      <td>820</td>\n",
       "      <td>520</td>\n",
       "    </tr>\n",
       "    <tr>\n",
       "      <th>intercrop_name</th>\n",
       "      <td>Tur</td>\n",
       "      <td>Tur</td>\n",
       "      <td>Tur</td>\n",
       "      <td>Tur</td>\n",
       "      <td>Tur</td>\n",
       "    </tr>\n",
       "    <tr>\n",
       "      <th>intercrop_rate</th>\n",
       "      <td>55</td>\n",
       "      <td>49</td>\n",
       "      <td>54</td>\n",
       "      <td>51</td>\n",
       "      <td>50</td>\n",
       "    </tr>\n",
       "    <tr>\n",
       "      <th>income_organic</th>\n",
       "      <td>8015.5</td>\n",
       "      <td>5768.2</td>\n",
       "      <td>7816.8</td>\n",
       "      <td>6960.8</td>\n",
       "      <td>6237.3</td>\n",
       "    </tr>\n",
       "    <tr>\n",
       "      <th>income_intercrop</th>\n",
       "      <td>6050</td>\n",
       "      <td>4018</td>\n",
       "      <td>9882</td>\n",
       "      <td>8313</td>\n",
       "      <td>6000</td>\n",
       "    </tr>\n",
       "    <tr>\n",
       "      <th>income_other</th>\n",
       "      <td>11400</td>\n",
       "      <td>7800</td>\n",
       "      <td>11400</td>\n",
       "      <td>20280</td>\n",
       "      <td>7800</td>\n",
       "    </tr>\n",
       "    <tr>\n",
       "      <th>cotton_price</th>\n",
       "      <td>54.5</td>\n",
       "      <td>54.6</td>\n",
       "      <td>54.2</td>\n",
       "      <td>55.4</td>\n",
       "      <td>53.7</td>\n",
       "    </tr>\n",
       "    <tr>\n",
       "      <th>cotton_income</th>\n",
       "      <td>16404.5</td>\n",
       "      <td>13759.2</td>\n",
       "      <td>16205.8</td>\n",
       "      <td>15899.8</td>\n",
       "      <td>14445.3</td>\n",
       "    </tr>\n",
       "    <tr>\n",
       "      <th>irrigation_cost</th>\n",
       "      <td>412</td>\n",
       "      <td>0</td>\n",
       "      <td>412</td>\n",
       "      <td>412</td>\n",
       "      <td>412</td>\n",
       "    </tr>\n",
       "    <tr>\n",
       "      <th>machinery_cost</th>\n",
       "      <td>600</td>\n",
       "      <td>600</td>\n",
       "      <td>600</td>\n",
       "      <td>600</td>\n",
       "      <td>600</td>\n",
       "    </tr>\n",
       "    <tr>\n",
       "      <th>input_cost</th>\n",
       "      <td>3677</td>\n",
       "      <td>3091</td>\n",
       "      <td>3677</td>\n",
       "      <td>3327</td>\n",
       "      <td>2896</td>\n",
       "    </tr>\n",
       "    <tr>\n",
       "      <th>animal_cost</th>\n",
       "      <td>0</td>\n",
       "      <td>800</td>\n",
       "      <td>0</td>\n",
       "      <td>800</td>\n",
       "      <td>800</td>\n",
       "    </tr>\n",
       "    <tr>\n",
       "      <th>labour_cost</th>\n",
       "      <td>3700</td>\n",
       "      <td>3500</td>\n",
       "      <td>3700</td>\n",
       "      <td>3700</td>\n",
       "      <td>3500</td>\n",
       "    </tr>\n",
       "    <tr>\n",
       "      <th>other_cost</th>\n",
       "      <td>0</td>\n",
       "      <td>0</td>\n",
       "      <td>0</td>\n",
       "      <td>100</td>\n",
       "      <td>0</td>\n",
       "    </tr>\n",
       "    <tr>\n",
       "      <th>total_cost</th>\n",
       "      <td>8389</td>\n",
       "      <td>7991</td>\n",
       "      <td>8389</td>\n",
       "      <td>8939</td>\n",
       "      <td>8208</td>\n",
       "    </tr>\n",
       "    <tr>\n",
       "      <th>cows</th>\n",
       "      <td>1</td>\n",
       "      <td>1</td>\n",
       "      <td>1</td>\n",
       "      <td>1</td>\n",
       "      <td>1</td>\n",
       "    </tr>\n",
       "    <tr>\n",
       "      <th>buffalos</th>\n",
       "      <td>2</td>\n",
       "      <td>2</td>\n",
       "      <td>2</td>\n",
       "      <td>1</td>\n",
       "      <td>2</td>\n",
       "    </tr>\n",
       "    <tr>\n",
       "      <th>bulls</th>\n",
       "      <td>2</td>\n",
       "      <td>2</td>\n",
       "      <td>2</td>\n",
       "      <td>1</td>\n",
       "      <td>2</td>\n",
       "    </tr>\n",
       "    <tr>\n",
       "      <th>goats</th>\n",
       "      <td>2</td>\n",
       "      <td>2</td>\n",
       "      <td>2</td>\n",
       "      <td>2</td>\n",
       "      <td>2</td>\n",
       "    </tr>\n",
       "    <tr>\n",
       "      <th>sheep</th>\n",
       "      <td>2</td>\n",
       "      <td>2</td>\n",
       "      <td>2</td>\n",
       "      <td>2</td>\n",
       "      <td>2</td>\n",
       "    </tr>\n",
       "    <tr>\n",
       "      <th>poultry</th>\n",
       "      <td>2</td>\n",
       "      <td>2</td>\n",
       "      <td>2</td>\n",
       "      <td>2</td>\n",
       "      <td>2</td>\n",
       "    </tr>\n",
       "    <tr>\n",
       "      <th>livestock_income</th>\n",
       "      <td>11400</td>\n",
       "      <td>7800</td>\n",
       "      <td>11400</td>\n",
       "      <td>20280</td>\n",
       "      <td>7800</td>\n",
       "    </tr>\n",
       "  </tbody>\n",
       "</table>\n",
       "</div>"
      ],
      "text/plain": [
       "                            0        1        2        3        4\n",
       "farmer_id                  c1      c10      c11      c12      c13\n",
       "group                 control  control  control  control  control\n",
       "adaptation_score_abs       20        8       19       20       17\n",
       "mitigation_score_abs       -7       -2       -5       -5       -5\n",
       "bank_account                1        1        1        1        1\n",
       "bicycle                     1        1        2        1        1\n",
       "car                         2        2        2        2        2\n",
       "cell_phone                  1        1        1        1        1\n",
       "cooler                      1        1        1        1        1\n",
       "crop_insurance              1        2        2        1        2\n",
       "drinking_water              4        4        4        4        4\n",
       "education                   4        4        4        4        4\n",
       "electricity                 1        1        1        1        1\n",
       "fertiliser                  1        1        1        1        1\n",
       "fridge                      1        1        1        1        1\n",
       "housing                     2        2        1        1        1\n",
       "irrigation_source           1        0        1        1        1\n",
       "irrigation_status           1        2        1        1        1\n",
       "life_insurance              1        2        1        1        2\n",
       "loan                        2        2        2        2        2\n",
       "motorcycle                  1        1        1        1        1\n",
       "ploughing_cart              1        2        2        2        2\n",
       "seed_type                   1        1        1        1        1\n",
       "tractor                     2        2        2        2        2\n",
       "tv                          1        1        1        1        1\n",
       "weeder                      2        2        2        2        2\n",
       "landholding                 4        3        4        3        2\n",
       "staple_lengt                2        2        2        2        2\n",
       "postharvest_acre          0.5      0.5      0.5      0.5      0.5\n",
       "biopesticide              820      570      820      820      520\n",
       "intercrop_name            Tur      Tur      Tur      Tur      Tur\n",
       "intercrop_rate             55       49       54       51       50\n",
       "income_organic         8015.5   5768.2   7816.8   6960.8   6237.3\n",
       "income_intercrop         6050     4018     9882     8313     6000\n",
       "income_other            11400     7800    11400    20280     7800\n",
       "cotton_price             54.5     54.6     54.2     55.4     53.7\n",
       "cotton_income         16404.5  13759.2  16205.8  15899.8  14445.3\n",
       "irrigation_cost           412        0      412      412      412\n",
       "machinery_cost            600      600      600      600      600\n",
       "input_cost               3677     3091     3677     3327     2896\n",
       "animal_cost                 0      800        0      800      800\n",
       "labour_cost              3700     3500     3700     3700     3500\n",
       "other_cost                  0        0        0      100        0\n",
       "total_cost               8389     7991     8389     8939     8208\n",
       "cows                        1        1        1        1        1\n",
       "buffalos                    2        2        2        1        2\n",
       "bulls                       2        2        2        1        2\n",
       "goats                       2        2        2        2        2\n",
       "sheep                       2        2        2        2        2\n",
       "poultry                     2        2        2        2        2\n",
       "livestock_income        11400     7800    11400    20280     7800"
      ]
     },
     "execution_count": 7,
     "metadata": {},
     "output_type": "execute_result"
    }
   ],
   "source": [
    "df.head().T"
   ]
  },
  {
   "cell_type": "markdown",
   "metadata": {},
   "source": [
    "The coding of boolean variables from source is 1 for Yes and 2 for No, I recode them to 1 for Yes and 0 for No as this allows us to just take the mean of the value and interpret this as a percentage"
   ]
  },
  {
   "cell_type": "code",
   "execution_count": 8,
   "metadata": {},
   "outputs": [],
   "source": [
    "# Fix boolean variables\n",
    "BOOLEAN_VARS = ['bank_account','bicycle','car','cell_phone','cooler','crop_insurance','electricity','fridge','life_insurance',\n",
    "               'loan','motorcycle','ploughing_cart','tractor','tv','weeder','landholding']"
   ]
  },
  {
   "cell_type": "code",
   "execution_count": 9,
   "metadata": {},
   "outputs": [],
   "source": [
    "for col in BOOLEAN_VARS:\n",
    "    df.loc[df[col] == 2, col] = 0"
   ]
  },
  {
   "cell_type": "code",
   "execution_count": 10,
   "metadata": {},
   "outputs": [
    {
     "data": {
      "text/plain": [
       "<matplotlib.axes._subplots.AxesSubplot at 0x1294a29b0>"
      ]
     },
     "execution_count": 10,
     "metadata": {},
     "output_type": "execute_result"
    },
    {
     "data": {
      "image/png": "[encoded data removed]",
      "text/plain": [
       "<Figure size 1080x864 with 2 Axes>"
      ]
     },
     "metadata": {
      "needs_background": "light"
     },
     "output_type": "display_data"
    }
   ],
   "source": [
    "# Set up the matplotlib figure\n",
    "f, ax = plt.subplots(figsize=(15, 12))\n",
    "\n",
    "# Generate a custom diverging colormap\n",
    "cmap = sns.diverging_palette(220, 10, as_cmap=True)\n",
    "\n",
    "# Draw the heatmap with the mask and correct aspect ratio\n",
    "sns.heatmap(df.corr(), cmap=cmap, vmax=.3, center=0,\n",
    "            square=True, linewidths=.5, cbar_kws={\"shrink\": .5})"
   ]
  },
  {
   "cell_type": "code",
   "execution_count": 11,
   "metadata": {},
   "outputs": [
    {
     "data": {
      "text/plain": [
       "adaptation_score_abs    1.000000\n",
       "irrigation_status      -0.777185\n",
       "mitigation_score_abs   -0.760323\n",
       "irrigation_cost         0.719963\n",
       "labour_cost             0.542369\n",
       "irrigation_source       0.538057\n",
       "life_insurance          0.431202\n",
       "machinery_cost         -0.385420\n",
       "crop_insurance          0.352564\n",
       "income_organic         -0.295389\n",
       "cotton_income          -0.254001\n",
       "total_cost              0.240532\n",
       "ploughing_cart          0.219997\n",
       "animal_cost             0.192744\n",
       "education               0.191083\n",
       "tractor                 0.179366\n",
       "fertiliser              0.171169\n",
       "housing                -0.161292\n",
       "buffalos               -0.160037\n",
       "livestock_income        0.159908\n",
       "weeder                  0.155319\n",
       "fridge                  0.139859\n",
       "bank_account            0.133337\n",
       "car                     0.130445\n",
       "cell_phone              0.123005\n",
       "input_cost             -0.122730\n",
       "motorcycle              0.101124\n",
       "cotton_price           -0.090707\n",
       "biopesticide           -0.085277\n",
       "electricity             0.084118\n",
       "bulls                  -0.079884\n",
       "loan                   -0.078720\n",
       "income_other            0.076176\n",
       "landholding            -0.075926\n",
       "income_intercrop        0.072067\n",
       "other_cost              0.064514\n",
       "cows                   -0.059865\n",
       "sheep                  -0.055767\n",
       "drinking_water         -0.045134\n",
       "intercrop_rate         -0.041112\n",
       "poultry                -0.027240\n",
       "bicycle                -0.021401\n",
       "tv                      0.019730\n",
       "postharvest_acre        0.014848\n",
       "cooler                 -0.008421\n",
       "goats                   0.008349\n",
       "seed_type                    NaN\n",
       "staple_lengt                 NaN\n",
       "Name: adaptation_score_abs, dtype: float64"
      ]
     },
     "execution_count": 11,
     "metadata": {},
     "output_type": "execute_result"
    }
   ],
   "source": [
    "df.corr().assign(adaptation_score_abs_cor = lambda df: df['adaptation_score_abs'].abs())\\\n",
    ".sort_values(by='adaptation_score_abs_cor', ascending=False)['adaptation_score_abs']"
   ]
  },
  {
   "cell_type": "code",
   "execution_count": 12,
   "metadata": {},
   "outputs": [
    {
     "data": {
      "text/plain": [
       "farmer_id                object\n",
       "group                    object\n",
       "adaptation_score_abs      int64\n",
       "mitigation_score_abs      int64\n",
       "bank_account              int64\n",
       "bicycle                   int64\n",
       "car                       int64\n",
       "cell_phone                int64\n",
       "cooler                    int64\n",
       "crop_insurance            int64\n",
       "drinking_water            int64\n",
       "education                 int64\n",
       "electricity               int64\n",
       "fertiliser                int64\n",
       "fridge                    int64\n",
       "housing                   int64\n",
       "irrigation_source         int64\n",
       "irrigation_status         int64\n",
       "life_insurance            int64\n",
       "loan                      int64\n",
       "motorcycle                int64\n",
       "ploughing_cart            int64\n",
       "seed_type               float64\n",
       "tractor                   int64\n",
       "tv                        int64\n",
       "weeder                    int64\n",
       "landholding             float64\n",
       "staple_lengt            float64\n",
       "postharvest_acre        float64\n",
       "biopesticide              int64\n",
       "intercrop_name           object\n",
       "intercrop_rate          float64\n",
       "income_organic          float64\n",
       "income_intercrop        float64\n",
       "income_other              int64\n",
       "cotton_price            float64\n",
       "cotton_income           float64\n",
       "irrigation_cost           int64\n",
       "machinery_cost            int64\n",
       "input_cost                int64\n",
       "animal_cost             float64\n",
       "labour_cost               int64\n",
       "other_cost              float64\n",
       "total_cost                int64\n",
       "cows                      int64\n",
       "buffalos                  int64\n",
       "bulls                   float64\n",
       "goats                     int64\n",
       "sheep                     int64\n",
       "poultry                   int64\n",
       "livestock_income          int64\n",
       "dtype: object"
      ]
     },
     "execution_count": 12,
     "metadata": {},
     "output_type": "execute_result"
    }
   ],
   "source": [
    "df.dtypes"
   ]
  },
  {
   "cell_type": "markdown",
   "metadata": {},
   "source": [
    "Exploring which columns we have missing values for and cleaning (using the median to impute missing values, but there are better methods to do this!)"
   ]
  },
  {
   "cell_type": "code",
   "execution_count": 13,
   "metadata": {},
   "outputs": [
    {
     "data": {
      "text/plain": [
       "animal_cost          0.658759\n",
       "cotton_price         0.408759\n",
       "cotton_income        0.408759\n",
       "income_organic       0.408759\n",
       "other_cost           0.361314\n",
       "intercrop_rate       0.361314\n",
       "intercrop_name       0.361314\n",
       "staple_lengt         0.361314\n",
       "income_intercrop     0.361314\n",
       "seed_type            0.361314\n",
       "bulls                0.001825\n",
       "fridge               0.000000\n",
       "housing              0.000000\n",
       "irrigation_source    0.000000\n",
       "electricity          0.000000\n",
       "dtype: float64"
      ]
     },
     "execution_count": 13,
     "metadata": {},
     "output_type": "execute_result"
    }
   ],
   "source": [
    "df.isna().apply('mean').sort_values(ascending=False).head(15)"
   ]
  },
  {
   "cell_type": "code",
   "execution_count": 14,
   "metadata": {},
   "outputs": [
    {
     "data": {
      "image/png": "[encoded data removed]",
      "text/plain": [
       "<Figure size 432x288 with 1 Axes>"
      ]
     },
     "metadata": {
      "needs_background": "light"
     },
     "output_type": "display_data"
    }
   ],
   "source": [
    "df['animal_cost'].hist()\n",
    "df.loc[df['animal_cost'].isna(),'animal_cost'] = df['animal_cost'].median()"
   ]
  },
  {
   "cell_type": "code",
   "execution_count": 15,
   "metadata": {},
   "outputs": [
    {
     "data": {
      "image/png": "[encoded data removed]",
      "text/plain": [
       "<Figure size 432x288 with 1 Axes>"
      ]
     },
     "metadata": {
      "needs_background": "light"
     },
     "output_type": "display_data"
    }
   ],
   "source": [
    "df['income_organic'].hist()\n",
    "df.loc[df['income_organic'].isna(),'income_organic'] = df['income_organic'].median()"
   ]
  },
  {
   "cell_type": "code",
   "execution_count": 16,
   "metadata": {},
   "outputs": [
    {
     "data": {
      "image/png": "[encoded data removed]",
      "text/plain": [
       "<Figure size 432x288 with 1 Axes>"
      ]
     },
     "metadata": {
      "needs_background": "light"
     },
     "output_type": "display_data"
    }
   ],
   "source": [
    "df['cotton_price'].hist()\n",
    "df.loc[df['cotton_price'].isna(),'cotton_price'] = df['cotton_price'].median()"
   ]
  },
  {
   "cell_type": "code",
   "execution_count": 17,
   "metadata": {},
   "outputs": [
    {
     "data": {
      "image/png": "[encoded data removed]",
      "text/plain": [
       "<Figure size 432x288 with 1 Axes>"
      ]
     },
     "metadata": {
      "needs_background": "light"
     },
     "output_type": "display_data"
    }
   ],
   "source": [
    "df['cotton_income'].hist()\n",
    "df.loc[df['cotton_income'].isna(),'cotton_income'] = df['cotton_income'].median()"
   ]
  },
  {
   "cell_type": "code",
   "execution_count": 18,
   "metadata": {},
   "outputs": [],
   "source": [
    "for col in ['other_cost','income_intercrop','staple_lengt','staple_lengt','intercrop_rate']:\n",
    "    df.loc[df[col].isna(),col] = df[col].median()"
   ]
  },
  {
   "cell_type": "code",
   "execution_count": 19,
   "metadata": {},
   "outputs": [],
   "source": [
    "df.loc[df['seed_type'].isna(),'seed_type'] = 0\n",
    "df.loc[df['bulls'].isna(),'bulls'] = 0\n",
    "df.loc[df['intercrop_name'].isna(),'intercrop_name'] = 'UNKNOWN'\n"
   ]
  },
  {
   "cell_type": "markdown",
   "metadata": {},
   "source": [
    "Need to parse categorical values from strings to numbers"
   ]
  },
  {
   "cell_type": "code",
   "execution_count": 20,
   "metadata": {},
   "outputs": [],
   "source": [
    "CATEGORICAL_VARS = BOOLEAN_VARS + ['housing','intercrop_name','irrigation_status','seed_type', 'group']\n",
    "for col in CATEGORICAL_VARS:\n",
    "    df[col] = df[col].astype('category').cat.codes"
   ]
  },
  {
   "cell_type": "code",
   "execution_count": 21,
   "metadata": {},
   "outputs": [
    {
     "data": {
      "text/plain": [
       "<matplotlib.axes._subplots.AxesSubplot at 0x12c0d0ef0>"
      ]
     },
     "execution_count": 21,
     "metadata": {},
     "output_type": "execute_result"
    },
    {
     "data": {
      "image/png": "[encoded data removed]",
      "text/plain": [
       "<Figure size 432x288 with 1 Axes>"
      ]
     },
     "metadata": {
      "needs_background": "light"
     },
     "output_type": "display_data"
    }
   ],
   "source": [
    "df['bulls'].hist()"
   ]
  },
  {
   "cell_type": "code",
   "execution_count": 22,
   "metadata": {},
   "outputs": [
    {
     "data": {
      "text/plain": [
       "farmer_id               0.0\n",
       "group                   0.0\n",
       "adaptation_score_abs    0.0\n",
       "mitigation_score_abs    0.0\n",
       "bank_account            0.0\n",
       "bicycle                 0.0\n",
       "car                     0.0\n",
       "cell_phone              0.0\n",
       "cooler                  0.0\n",
       "crop_insurance          0.0\n",
       "drinking_water          0.0\n",
       "education               0.0\n",
       "electricity             0.0\n",
       "fertiliser              0.0\n",
       "fridge                  0.0\n",
       "housing                 0.0\n",
       "irrigation_source       0.0\n",
       "irrigation_status       0.0\n",
       "life_insurance          0.0\n",
       "loan                    0.0\n",
       "motorcycle              0.0\n",
       "ploughing_cart          0.0\n",
       "seed_type               0.0\n",
       "tractor                 0.0\n",
       "tv                      0.0\n",
       "weeder                  0.0\n",
       "landholding             0.0\n",
       "staple_lengt            0.0\n",
       "postharvest_acre        0.0\n",
       "biopesticide            0.0\n",
       "intercrop_name          0.0\n",
       "intercrop_rate          0.0\n",
       "income_organic          0.0\n",
       "income_intercrop        0.0\n",
       "income_other            0.0\n",
       "cotton_price            0.0\n",
       "cotton_income           0.0\n",
       "irrigation_cost         0.0\n",
       "machinery_cost          0.0\n",
       "input_cost              0.0\n",
       "animal_cost             0.0\n",
       "labour_cost             0.0\n",
       "other_cost              0.0\n",
       "total_cost              0.0\n",
       "cows                    0.0\n",
       "buffalos                0.0\n",
       "bulls                   0.0\n",
       "goats                   0.0\n",
       "sheep                   0.0\n",
       "poultry                 0.0\n",
       "livestock_income        0.0\n",
       "dtype: float64"
      ]
     },
     "execution_count": 22,
     "metadata": {},
     "output_type": "execute_result"
    }
   ],
   "source": [
    "df.isna().apply('mean')"
   ]
  },
  {
   "cell_type": "code",
   "execution_count": 23,
   "metadata": {},
   "outputs": [],
   "source": [
    "df.to_csv('Clean_India_Cotton.csv')"
   ]
  },
  {
   "cell_type": "markdown",
   "metadata": {},
   "source": [
    "## Clustering\n",
    "### Random Forest to find variables most predictive of Adaptability score\n",
    "The idea of using this model is not to produce the best predictive model, but to find a limited number of variables with the most impact in predicting a farmer's predictibility score. Afterwards, these variables can be used to cluster the farmers into their different groups"
   ]
  },
  {
   "cell_type": "code",
   "execution_count": 24,
   "metadata": {},
   "outputs": [],
   "source": [
    "from sklearn.ensemble import RandomForestRegressor"
   ]
  },
  {
   "cell_type": "code",
   "execution_count": 25,
   "metadata": {},
   "outputs": [],
   "source": [
    "rf = RandomForestRegressor(n_estimators=300, max_depth = 5, max_features = 0.3, random_state = 1882, min_samples_leaf = 10)"
   ]
  },
  {
   "cell_type": "code",
   "execution_count": 26,
   "metadata": {},
   "outputs": [
    {
     "data": {
      "text/plain": [
       "RandomForestRegressor(bootstrap=True, criterion='mse', max_depth=5,\n",
       "                      max_features=0.3, max_leaf_nodes=None,\n",
       "                      min_impurity_decrease=0.0, min_impurity_split=None,\n",
       "                      min_samples_leaf=10, min_samples_split=2,\n",
       "                      min_weight_fraction_leaf=0.0, n_estimators=300,\n",
       "                      n_jobs=None, oob_score=False, random_state=1882,\n",
       "                      verbose=0, warm_start=False)"
      ]
     },
     "execution_count": 26,
     "metadata": {},
     "output_type": "execute_result"
    }
   ],
   "source": [
    "rf.fit(df.drop(columns = ['farmer_id','mitigation_score_abs','adaptation_score_abs']), df['adaptation_score_abs'])"
   ]
  },
  {
   "cell_type": "markdown",
   "metadata": {},
   "source": [
    "These are the top 10 most predictive variables"
   ]
  },
  {
   "cell_type": "code",
   "execution_count": 27,
   "metadata": {},
   "outputs": [
    {
     "data": {
      "text/html": [
       "<div>\n",
       "<style scoped>\n",
       "    .dataframe tbody tr th:only-of-type {\n",
       "        vertical-align: middle;\n",
       "    }\n",
       "\n",
       "    .dataframe tbody tr th {\n",
       "        vertical-align: top;\n",
       "    }\n",
       "\n",
       "    .dataframe thead th {\n",
       "        text-align: right;\n",
       "    }\n",
       "</style>\n",
       "<table border=\"1\" class=\"dataframe\">\n",
       "  <thead>\n",
       "    <tr style=\"text-align: right;\">\n",
       "      <th></th>\n",
       "      <th>var</th>\n",
       "      <th>importance</th>\n",
       "    </tr>\n",
       "  </thead>\n",
       "  <tbody>\n",
       "    <tr>\n",
       "      <th>13</th>\n",
       "      <td>irrigation_source</td>\n",
       "      <td>0.233238</td>\n",
       "    </tr>\n",
       "    <tr>\n",
       "      <th>34</th>\n",
       "      <td>irrigation_cost</td>\n",
       "      <td>0.216580</td>\n",
       "    </tr>\n",
       "    <tr>\n",
       "      <th>14</th>\n",
       "      <td>irrigation_status</td>\n",
       "      <td>0.139394</td>\n",
       "    </tr>\n",
       "    <tr>\n",
       "      <th>40</th>\n",
       "      <td>total_cost</td>\n",
       "      <td>0.102069</td>\n",
       "    </tr>\n",
       "    <tr>\n",
       "      <th>38</th>\n",
       "      <td>labour_cost</td>\n",
       "      <td>0.081502</td>\n",
       "    </tr>\n",
       "    <tr>\n",
       "      <th>15</th>\n",
       "      <td>life_insurance</td>\n",
       "      <td>0.043836</td>\n",
       "    </tr>\n",
       "    <tr>\n",
       "      <th>27</th>\n",
       "      <td>intercrop_name</td>\n",
       "      <td>0.041447</td>\n",
       "    </tr>\n",
       "    <tr>\n",
       "      <th>19</th>\n",
       "      <td>seed_type</td>\n",
       "      <td>0.038406</td>\n",
       "    </tr>\n",
       "    <tr>\n",
       "      <th>35</th>\n",
       "      <td>machinery_cost</td>\n",
       "      <td>0.015787</td>\n",
       "    </tr>\n",
       "    <tr>\n",
       "      <th>22</th>\n",
       "      <td>weeder</td>\n",
       "      <td>0.013072</td>\n",
       "    </tr>\n",
       "  </tbody>\n",
       "</table>\n",
       "</div>"
      ],
      "text/plain": [
       "                  var  importance\n",
       "13  irrigation_source    0.233238\n",
       "34    irrigation_cost    0.216580\n",
       "14  irrigation_status    0.139394\n",
       "40         total_cost    0.102069\n",
       "38        labour_cost    0.081502\n",
       "15     life_insurance    0.043836\n",
       "27     intercrop_name    0.041447\n",
       "19          seed_type    0.038406\n",
       "35     machinery_cost    0.015787\n",
       "22             weeder    0.013072"
      ]
     },
     "execution_count": 27,
     "metadata": {},
     "output_type": "execute_result"
    }
   ],
   "source": [
    "var_importance = pd.DataFrame({'var':df.drop(columns = ['farmer_id','mitigation_score_abs','adaptation_score_abs']).columns,\\\n",
    "              'importance':rf.feature_importances_}).sort_values(by='importance', ascending=False)\n",
    "\n",
    "var_importance.head(10)"
   ]
  },
  {
   "cell_type": "markdown",
   "metadata": {},
   "source": [
    "The following scores and plots are to show whether the model is actually learning the relationship between the variables to see if we can use these variables confidently"
   ]
  },
  {
   "cell_type": "code",
   "execution_count": 28,
   "metadata": {},
   "outputs": [],
   "source": [
    "from sklearn.metrics import r2_score\n",
    "from sklearn.metrics import mean_absolute_error"
   ]
  },
  {
   "cell_type": "code",
   "execution_count": 29,
   "metadata": {},
   "outputs": [
    {
     "data": {
      "text/plain": [
       "0.9137775225671223"
      ]
     },
     "execution_count": 29,
     "metadata": {},
     "output_type": "execute_result"
    }
   ],
   "source": [
    "r2_score(df['adaptation_score_abs'],rf.predict(df.drop(columns = ['farmer_id','mitigation_score_abs','adaptation_score_abs'])))"
   ]
  },
  {
   "cell_type": "code",
   "execution_count": 30,
   "metadata": {},
   "outputs": [
    {
     "data": {
      "text/plain": [
       "1.12317432817343"
      ]
     },
     "execution_count": 30,
     "metadata": {},
     "output_type": "execute_result"
    }
   ],
   "source": [
    "mean_absolute_error(df['adaptation_score_abs'],rf.predict(df.drop(columns = ['farmer_id','mitigation_score_abs','adaptation_score_abs'])))"
   ]
  },
  {
   "cell_type": "code",
   "execution_count": 31,
   "metadata": {},
   "outputs": [
    {
     "data": {
      "text/plain": [
       "<matplotlib.axes._subplots.AxesSubplot at 0x12cb46cc0>"
      ]
     },
     "execution_count": 31,
     "metadata": {},
     "output_type": "execute_result"
    },
    {
     "data": {
      "image/png": "[encoded data removed]",
      "text/plain": [
       "<Figure size 432x288 with 1 Axes>"
      ]
     },
     "metadata": {
      "needs_background": "light"
     },
     "output_type": "display_data"
    }
   ],
   "source": [
    "df['adaptation_score_abs'].hist()"
   ]
  },
  {
   "cell_type": "code",
   "execution_count": 32,
   "metadata": {},
   "outputs": [
    {
     "data": {
      "text/plain": [
       "<matplotlib.axes._subplots.AxesSubplot at 0x12bfe2c88>"
      ]
     },
     "execution_count": 32,
     "metadata": {},
     "output_type": "execute_result"
    },
    {
     "data": {
      "image/png": "[encoded data removed]",
      "text/plain": [
       "<Figure size 432x288 with 1 Axes>"
      ]
     },
     "metadata": {
      "needs_background": "light"
     },
     "output_type": "display_data"
    }
   ],
   "source": [
    "sns.scatterplot(x=df['adaptation_score_abs'], y= rf.predict(df.drop(columns = ['farmer_id','mitigation_score_abs','adaptation_score_abs'])))"
   ]
  },
  {
   "cell_type": "markdown",
   "metadata": {},
   "source": [
    "### KMeans\n",
    "In order to cluster the farmers I used the KMeans algorithm"
   ]
  },
  {
   "cell_type": "code",
   "execution_count": 33,
   "metadata": {},
   "outputs": [],
   "source": [
    "## Clustering with top importance variables\n",
    "from sklearn.preprocessing import StandardScaler\n",
    "from sklearn.cluster import KMeans\n"
   ]
  },
  {
   "cell_type": "code",
   "execution_count": 34,
   "metadata": {},
   "outputs": [],
   "source": [
    "scaler = StandardScaler()\n",
    "df_km = scaler.fit_transform(df[var_importance['var'][:10]])\n"
   ]
  },
  {
   "cell_type": "markdown",
   "metadata": {},
   "source": [
    "The Elbow method allows to see what number of clusters gives us the most gain in terms of reducing variance within the groups. 4 looks like a good number"
   ]
  },
  {
   "cell_type": "code",
   "execution_count": 35,
   "metadata": {},
   "outputs": [
    {
     "data": {
      "image/png": "[encoded data removed]",
      "text/plain": [
       "<Figure size 432x288 with 1 Axes>"
      ]
     },
     "metadata": {
      "needs_background": "light"
     },
     "output_type": "display_data"
    }
   ],
   "source": [
    "# k means determine k\n",
    "from scipy.spatial.distance import cdist\n",
    "distortions = []\n",
    "K = range(1,10)\n",
    "for k in K:\n",
    "    kmeanModel = KMeans(n_clusters=k).fit(df_km)\n",
    "    kmeanModel.fit(df_km)\n",
    "    distortions.append(sum(np.min(cdist(df_km, kmeanModel.cluster_centers_, 'euclidean'), axis=1)) / df_km.shape[0])\n",
    "\n",
    "# Plot the elbow\n",
    "plt.plot(K, distortions, 'bx-')\n",
    "plt.xlabel('k')\n",
    "plt.ylabel('Distortion')\n",
    "plt.title('The Elbow Method showing the optimal k')\n",
    "plt.show()"
   ]
  },
  {
   "cell_type": "markdown",
   "metadata": {},
   "source": [
    "Assign and plot the clusters"
   ]
  },
  {
   "cell_type": "code",
   "execution_count": 36,
   "metadata": {},
   "outputs": [
    {
     "data": {
      "text/plain": [
       "<matplotlib.axes._subplots.AxesSubplot at 0x12cf26b00>"
      ]
     },
     "execution_count": 36,
     "metadata": {},
     "output_type": "execute_result"
    },
    {
     "data": {
      "image/png": "[encoded data removed]",
      "text/plain": [
       "<Figure size 432x288 with 1 Axes>"
      ]
     },
     "metadata": {
      "needs_background": "light"
     },
     "output_type": "display_data"
    }
   ],
   "source": [
    "km = KMeans(n_clusters=4, random_state=1882)\n",
    "km.fit(df_km)\n",
    "clusters = km.predict(df_km)\n",
    "df['cluster'] = clusters\n",
    "sns.violinplot(x='cluster', y='adaptation_score_abs', data=df)"
   ]
  },
  {
   "cell_type": "code",
   "execution_count": 37,
   "metadata": {},
   "outputs": [],
   "source": [
    "df.loc[df['cluster'] == 0, 'cluster'] = 4"
   ]
  },
  {
   "cell_type": "code",
   "execution_count": 38,
   "metadata": {},
   "outputs": [
    {
     "data": {
      "text/plain": [
       "<matplotlib.axes._subplots.AxesSubplot at 0x12cea2198>"
      ]
     },
     "execution_count": 38,
     "metadata": {},
     "output_type": "execute_result"
    },
    {
     "data": {
      "image/png": "[encoded data removed]",
      "text/plain": [
       "<Figure size 432x288 with 1 Axes>"
      ]
     },
     "metadata": {
      "needs_background": "light"
     },
     "output_type": "display_data"
    }
   ],
   "source": [
    "sns.violinplot(x='cluster', y='adaptation_score_abs', data=df)"
   ]
  },
  {
   "cell_type": "markdown",
   "metadata": {},
   "source": [
    "### Cluster exploration\n",
    "Explore how the farmer's characteristics change between the different clusters to see what makes them different"
   ]
  },
  {
   "cell_type": "code",
   "execution_count": 39,
   "metadata": {},
   "outputs": [
    {
     "data": {
      "text/html": [
       "<style  type=\"text/css\" >\n",
       "    #T_7df71cda_0ec6_11ea_ac0d_acde48001122row0_col0 {\n",
       "            width:  10em;\n",
       "             height:  80%;\n",
       "            background:  linear-gradient(90deg,#5fba7d 100.0%, transparent 100.0%);\n",
       "        }    #T_7df71cda_0ec6_11ea_ac0d_acde48001122row0_col1 {\n",
       "            width:  10em;\n",
       "             height:  80%;\n",
       "            background:  linear-gradient(90deg,#5fba7d 100.0%, transparent 100.0%);\n",
       "        }    #T_7df71cda_0ec6_11ea_ac0d_acde48001122row0_col2 {\n",
       "            width:  10em;\n",
       "             height:  80%;\n",
       "            background:  linear-gradient(90deg,#5fba7d 87.7%, transparent 87.7%);\n",
       "        }    #T_7df71cda_0ec6_11ea_ac0d_acde48001122row1_col0 {\n",
       "            width:  10em;\n",
       "             height:  80%;\n",
       "            background:  linear-gradient(90deg,#5fba7d 52.3%, transparent 52.3%);\n",
       "        }    #T_7df71cda_0ec6_11ea_ac0d_acde48001122row1_col1 {\n",
       "            width:  10em;\n",
       "             height:  80%;\n",
       "            background:  linear-gradient(90deg,#5fba7d 80.4%, transparent 80.4%);\n",
       "        }    #T_7df71cda_0ec6_11ea_ac0d_acde48001122row1_col2 {\n",
       "            width:  10em;\n",
       "             height:  80%;\n",
       "            background:  linear-gradient(90deg,#5fba7d 100.0%, transparent 100.0%);\n",
       "        }    #T_7df71cda_0ec6_11ea_ac0d_acde48001122row2_col0 {\n",
       "            width:  10em;\n",
       "             height:  80%;\n",
       "            background:  linear-gradient(90deg,#5fba7d 22.8%, transparent 22.8%);\n",
       "        }    #T_7df71cda_0ec6_11ea_ac0d_acde48001122row2_col1 {\n",
       "            width:  10em;\n",
       "             height:  80%;\n",
       "            background:  linear-gradient(90deg,#5fba7d 56.6%, transparent 56.6%);\n",
       "        }    #T_7df71cda_0ec6_11ea_ac0d_acde48001122row2_col2 {\n",
       "            width:  10em;\n",
       "             height:  80%;\n",
       "            background:  linear-gradient(90deg,#5fba7d 76.9%, transparent 76.9%);\n",
       "        }    #T_7df71cda_0ec6_11ea_ac0d_acde48001122row3_col0 {\n",
       "            width:  10em;\n",
       "             height:  80%;\n",
       "            background:  linear-gradient(90deg,#5fba7d 17.2%, transparent 17.2%);\n",
       "        }    #T_7df71cda_0ec6_11ea_ac0d_acde48001122row3_col1 {\n",
       "            width:  10em;\n",
       "             height:  80%;\n",
       "            background:  linear-gradient(90deg,#5fba7d 37.6%, transparent 37.6%);\n",
       "        }    #T_7df71cda_0ec6_11ea_ac0d_acde48001122row3_col2 {\n",
       "            width:  10em;\n",
       "             height:  80%;\n",
       "            background:  linear-gradient(90deg,#5fba7d 100.0%, transparent 100.0%);\n",
       "        }</style><table id=\"T_7df71cda_0ec6_11ea_ac0d_acde48001122\" ><thead>    <tr>        <th class=\"blank level0\" ></th>        <th class=\"col_heading level0 col0\" >num</th>        <th class=\"col_heading level0 col1\" >mean_adapt_score</th>        <th class=\"col_heading level0 col2\" >mean_group</th>    </tr>    <tr>        <th class=\"index_name level0\" >cluster</th>        <th class=\"blank\" ></th>        <th class=\"blank\" ></th>        <th class=\"blank\" ></th>    </tr></thead><tbody>\n",
       "                <tr>\n",
       "                        <th id=\"T_7df71cda_0ec6_11ea_ac0d_acde48001122level0_row0\" class=\"row_heading level0 row0\" >1</th>\n",
       "                        <td id=\"T_7df71cda_0ec6_11ea_ac0d_acde48001122row0_col0\" class=\"data row0 col0\" >285</td>\n",
       "                        <td id=\"T_7df71cda_0ec6_11ea_ac0d_acde48001122row0_col1\" class=\"data row0 col1\" >21.4386</td>\n",
       "                        <td id=\"T_7df71cda_0ec6_11ea_ac0d_acde48001122row0_col2\" class=\"data row0 col2\" >0.877193</td>\n",
       "            </tr>\n",
       "            <tr>\n",
       "                        <th id=\"T_7df71cda_0ec6_11ea_ac0d_acde48001122level0_row1\" class=\"row_heading level0 row1\" >2</th>\n",
       "                        <td id=\"T_7df71cda_0ec6_11ea_ac0d_acde48001122row1_col0\" class=\"data row1 col0\" >149</td>\n",
       "                        <td id=\"T_7df71cda_0ec6_11ea_ac0d_acde48001122row1_col1\" class=\"data row1 col1\" >17.2282</td>\n",
       "                        <td id=\"T_7df71cda_0ec6_11ea_ac0d_acde48001122row1_col2\" class=\"data row1 col2\" >1</td>\n",
       "            </tr>\n",
       "            <tr>\n",
       "                        <th id=\"T_7df71cda_0ec6_11ea_ac0d_acde48001122level0_row2\" class=\"row_heading level0 row2\" >3</th>\n",
       "                        <td id=\"T_7df71cda_0ec6_11ea_ac0d_acde48001122row2_col0\" class=\"data row2 col0\" >65</td>\n",
       "                        <td id=\"T_7df71cda_0ec6_11ea_ac0d_acde48001122row2_col1\" class=\"data row2 col1\" >12.1385</td>\n",
       "                        <td id=\"T_7df71cda_0ec6_11ea_ac0d_acde48001122row2_col2\" class=\"data row2 col2\" >0.769231</td>\n",
       "            </tr>\n",
       "            <tr>\n",
       "                        <th id=\"T_7df71cda_0ec6_11ea_ac0d_acde48001122level0_row3\" class=\"row_heading level0 row3\" >4</th>\n",
       "                        <td id=\"T_7df71cda_0ec6_11ea_ac0d_acde48001122row3_col0\" class=\"data row3 col0\" >49</td>\n",
       "                        <td id=\"T_7df71cda_0ec6_11ea_ac0d_acde48001122row3_col1\" class=\"data row3 col1\" >8.06122</td>\n",
       "                        <td id=\"T_7df71cda_0ec6_11ea_ac0d_acde48001122row3_col2\" class=\"data row3 col2\" >1</td>\n",
       "            </tr>\n",
       "    </tbody></table>"
      ],
      "text/plain": [
       "<pandas.io.formats.style.Styler at 0x12f0afd30>"
      ]
     },
     "execution_count": 39,
     "metadata": {},
     "output_type": "execute_result"
    }
   ],
   "source": [
    "# Score\n",
    "df.groupby('cluster').agg(num = ('farmer_id','count'), mean_adapt_score = ('adaptation_score_abs', 'mean'), mean_group = ('group','mean')).style.bar(align='mid',color =['#d65f5f','#5fba7d'])"
   ]
  },
  {
   "cell_type": "code",
   "execution_count": 40,
   "metadata": {},
   "outputs": [
    {
     "data": {
      "text/html": [
       "<style  type=\"text/css\" >\n",
       "    #T_7dfcef0c_0ec6_11ea_ac0d_acde48001122row0_col0 {\n",
       "            width:  10em;\n",
       "             height:  80%;\n",
       "            background:  linear-gradient(90deg,#5fba7d 100.0%, transparent 100.0%);\n",
       "        }    #T_7dfcef0c_0ec6_11ea_ac0d_acde48001122row0_col1 {\n",
       "            width:  10em;\n",
       "             height:  80%;\n",
       "            background:  linear-gradient(90deg,#5fba7d 93.6%, transparent 93.6%);\n",
       "        }    #T_7dfcef0c_0ec6_11ea_ac0d_acde48001122row0_col2 {\n",
       "            width:  10em;\n",
       "             height:  80%;\n",
       "            background:  linear-gradient(90deg,#5fba7d 100.0%, transparent 100.0%);\n",
       "        }    #T_7dfcef0c_0ec6_11ea_ac0d_acde48001122row0_col3 {\n",
       "            width:  10em;\n",
       "             height:  80%;\n",
       "            background:  linear-gradient(90deg,#5fba7d 100.0%, transparent 100.0%);\n",
       "        }    #T_7dfcef0c_0ec6_11ea_ac0d_acde48001122row0_col4 {\n",
       "            width:  10em;\n",
       "             height:  80%;\n",
       "            background:  linear-gradient(90deg,#5fba7d 96.7%, transparent 96.7%);\n",
       "        }    #T_7dfcef0c_0ec6_11ea_ac0d_acde48001122row1_col0 {\n",
       "            width:  10em;\n",
       "             height:  80%;\n",
       "            background:  linear-gradient(90deg,#5fba7d 71.7%, transparent 71.7%);\n",
       "        }    #T_7dfcef0c_0ec6_11ea_ac0d_acde48001122row1_col1 {\n",
       "            width:  10em;\n",
       "             height:  80%;\n",
       "            background:  linear-gradient(90deg,#5fba7d 93.6%, transparent 93.6%);\n",
       "        }    #T_7dfcef0c_0ec6_11ea_ac0d_acde48001122row1_col2 {\n",
       "            width:  10em;\n",
       "             height:  80%;\n",
       "            background:  linear-gradient(90deg,#5fba7d 44.1%, transparent 44.1%);\n",
       "        }    #T_7dfcef0c_0ec6_11ea_ac0d_acde48001122row1_col3 {\n",
       "            width:  10em;\n",
       "             height:  80%;\n",
       "            background:  linear-gradient(90deg,#5fba7d 81.3%, transparent 81.3%);\n",
       "        }    #T_7dfcef0c_0ec6_11ea_ac0d_acde48001122row1_col4 {\n",
       "            width:  10em;\n",
       "             height:  80%;\n",
       "            background:  linear-gradient(90deg,#5fba7d 100.0%, transparent 100.0%);\n",
       "        }    #T_7dfcef0c_0ec6_11ea_ac0d_acde48001122row2_col0 {\n",
       "            width:  10em;\n",
       "             height:  80%;\n",
       "        }    #T_7dfcef0c_0ec6_11ea_ac0d_acde48001122row2_col1 {\n",
       "            width:  10em;\n",
       "             height:  80%;\n",
       "            background:  linear-gradient(90deg,#5fba7d 100.0%, transparent 100.0%);\n",
       "        }    #T_7dfcef0c_0ec6_11ea_ac0d_acde48001122row2_col2 {\n",
       "            width:  10em;\n",
       "             height:  80%;\n",
       "            background:  linear-gradient(90deg,#5fba7d 33.7%, transparent 33.7%);\n",
       "        }    #T_7dfcef0c_0ec6_11ea_ac0d_acde48001122row2_col3 {\n",
       "            width:  10em;\n",
       "             height:  80%;\n",
       "            background:  linear-gradient(90deg,#5fba7d 32.9%, transparent 32.9%);\n",
       "        }    #T_7dfcef0c_0ec6_11ea_ac0d_acde48001122row2_col4 {\n",
       "            width:  10em;\n",
       "             height:  80%;\n",
       "            background:  linear-gradient(90deg,#5fba7d 95.7%, transparent 95.7%);\n",
       "        }    #T_7dfcef0c_0ec6_11ea_ac0d_acde48001122row3_col0 {\n",
       "            width:  10em;\n",
       "             height:  80%;\n",
       "        }    #T_7dfcef0c_0ec6_11ea_ac0d_acde48001122row3_col1 {\n",
       "            width:  10em;\n",
       "             height:  80%;\n",
       "            background:  linear-gradient(90deg,#5fba7d 94.0%, transparent 94.0%);\n",
       "        }    #T_7dfcef0c_0ec6_11ea_ac0d_acde48001122row3_col2 {\n",
       "            width:  10em;\n",
       "             height:  80%;\n",
       "        }    #T_7dfcef0c_0ec6_11ea_ac0d_acde48001122row3_col3 {\n",
       "            width:  10em;\n",
       "             height:  80%;\n",
       "            background:  linear-gradient(90deg,#5fba7d 14.5%, transparent 14.5%);\n",
       "        }    #T_7dfcef0c_0ec6_11ea_ac0d_acde48001122row3_col4 {\n",
       "            width:  10em;\n",
       "             height:  80%;\n",
       "            background:  linear-gradient(90deg,#5fba7d 81.4%, transparent 81.4%);\n",
       "        }</style><table id=\"T_7dfcef0c_0ec6_11ea_ac0d_acde48001122\" ><thead>    <tr>        <th class=\"blank level0\" ></th>        <th class=\"col_heading level0 col0\" >mean_car</th>        <th class=\"col_heading level0 col1\" >mean_bicycle</th>        <th class=\"col_heading level0 col2\" >mean_tractor</th>        <th class=\"col_heading level0 col3\" >mean_ploughing_cart</th>        <th class=\"col_heading level0 col4\" >mean_motorcycle</th>    </tr>    <tr>        <th class=\"index_name level0\" >cluster</th>        <th class=\"blank\" ></th>        <th class=\"blank\" ></th>        <th class=\"blank\" ></th>        <th class=\"blank\" ></th>        <th class=\"blank\" ></th>    </tr></thead><tbody>\n",
       "                <tr>\n",
       "                        <th id=\"T_7dfcef0c_0ec6_11ea_ac0d_acde48001122level0_row0\" class=\"row_heading level0 row0\" >1</th>\n",
       "                        <td id=\"T_7dfcef0c_0ec6_11ea_ac0d_acde48001122row0_col0\" class=\"data row0 col0\" >0.0280702</td>\n",
       "                        <td id=\"T_7dfcef0c_0ec6_11ea_ac0d_acde48001122row0_col1\" class=\"data row0 col1\" >0.691228</td>\n",
       "                        <td id=\"T_7dfcef0c_0ec6_11ea_ac0d_acde48001122row0_col2\" class=\"data row0 col2\" >0.045614</td>\n",
       "                        <td id=\"T_7dfcef0c_0ec6_11ea_ac0d_acde48001122row0_col3\" class=\"data row0 col3\" >0.140351</td>\n",
       "                        <td id=\"T_7dfcef0c_0ec6_11ea_ac0d_acde48001122row0_col4\" class=\"data row0 col4\" >0.824561</td>\n",
       "            </tr>\n",
       "            <tr>\n",
       "                        <th id=\"T_7dfcef0c_0ec6_11ea_ac0d_acde48001122level0_row1\" class=\"row_heading level0 row1\" >2</th>\n",
       "                        <td id=\"T_7dfcef0c_0ec6_11ea_ac0d_acde48001122row1_col0\" class=\"data row1 col0\" >0.0201342</td>\n",
       "                        <td id=\"T_7dfcef0c_0ec6_11ea_ac0d_acde48001122row1_col1\" class=\"data row1 col1\" >0.691275</td>\n",
       "                        <td id=\"T_7dfcef0c_0ec6_11ea_ac0d_acde48001122row1_col2\" class=\"data row1 col2\" >0.0201342</td>\n",
       "                        <td id=\"T_7dfcef0c_0ec6_11ea_ac0d_acde48001122row1_col3\" class=\"data row1 col3\" >0.114094</td>\n",
       "                        <td id=\"T_7dfcef0c_0ec6_11ea_ac0d_acde48001122row1_col4\" class=\"data row1 col4\" >0.852349</td>\n",
       "            </tr>\n",
       "            <tr>\n",
       "                        <th id=\"T_7dfcef0c_0ec6_11ea_ac0d_acde48001122level0_row2\" class=\"row_heading level0 row2\" >3</th>\n",
       "                        <td id=\"T_7dfcef0c_0ec6_11ea_ac0d_acde48001122row2_col0\" class=\"data row2 col0\" >0</td>\n",
       "                        <td id=\"T_7dfcef0c_0ec6_11ea_ac0d_acde48001122row2_col1\" class=\"data row2 col1\" >0.738462</td>\n",
       "                        <td id=\"T_7dfcef0c_0ec6_11ea_ac0d_acde48001122row2_col2\" class=\"data row2 col2\" >0.0153846</td>\n",
       "                        <td id=\"T_7dfcef0c_0ec6_11ea_ac0d_acde48001122row2_col3\" class=\"data row2 col3\" >0.0461538</td>\n",
       "                        <td id=\"T_7dfcef0c_0ec6_11ea_ac0d_acde48001122row2_col4\" class=\"data row2 col4\" >0.815385</td>\n",
       "            </tr>\n",
       "            <tr>\n",
       "                        <th id=\"T_7dfcef0c_0ec6_11ea_ac0d_acde48001122level0_row3\" class=\"row_heading level0 row3\" >4</th>\n",
       "                        <td id=\"T_7dfcef0c_0ec6_11ea_ac0d_acde48001122row3_col0\" class=\"data row3 col0\" >0</td>\n",
       "                        <td id=\"T_7dfcef0c_0ec6_11ea_ac0d_acde48001122row3_col1\" class=\"data row3 col1\" >0.693878</td>\n",
       "                        <td id=\"T_7dfcef0c_0ec6_11ea_ac0d_acde48001122row3_col2\" class=\"data row3 col2\" >0</td>\n",
       "                        <td id=\"T_7dfcef0c_0ec6_11ea_ac0d_acde48001122row3_col3\" class=\"data row3 col3\" >0.0204082</td>\n",
       "                        <td id=\"T_7dfcef0c_0ec6_11ea_ac0d_acde48001122row3_col4\" class=\"data row3 col4\" >0.693878</td>\n",
       "            </tr>\n",
       "    </tbody></table>"
      ],
      "text/plain": [
       "<pandas.io.formats.style.Styler at 0x12f1651d0>"
      ]
     },
     "execution_count": 40,
     "metadata": {},
     "output_type": "execute_result"
    }
   ],
   "source": [
    "# Transport\n",
    "df.groupby('cluster').agg(mean_car = ('car','mean'), mean_bicycle = ('bicycle','mean'),mean_tractor = ('tractor','mean'),mean_ploughing_cart = ('ploughing_cart','mean'),\n",
    "                          mean_motorcycle = ('motorcycle','mean')).style.bar(align='mid',color =['#d65f5f','#5fba7d'])#.T.plot.barh(figsize=(12,8))"
   ]
  },
  {
   "cell_type": "code",
   "execution_count": 41,
   "metadata": {},
   "outputs": [
    {
     "data": {
      "text/html": [
       "<style  type=\"text/css\" >\n",
       "    #T_7e0be7d2_0ec6_11ea_ac0d_acde48001122row0_col0 {\n",
       "            width:  10em;\n",
       "             height:  80%;\n",
       "            background:  linear-gradient(90deg,#5fba7d 99.3%, transparent 99.3%);\n",
       "        }    #T_7e0be7d2_0ec6_11ea_ac0d_acde48001122row0_col1 {\n",
       "            width:  10em;\n",
       "             height:  80%;\n",
       "            background:  linear-gradient(90deg,#5fba7d 100.0%, transparent 100.0%);\n",
       "        }    #T_7e0be7d2_0ec6_11ea_ac0d_acde48001122row0_col2 {\n",
       "            width:  10em;\n",
       "             height:  80%;\n",
       "            background:  linear-gradient(90deg,#5fba7d 100.0%, transparent 100.0%);\n",
       "        }    #T_7e0be7d2_0ec6_11ea_ac0d_acde48001122row0_col3 {\n",
       "            width:  10em;\n",
       "             height:  80%;\n",
       "            background:  linear-gradient(90deg,#5fba7d 100.0%, transparent 100.0%);\n",
       "        }    #T_7e0be7d2_0ec6_11ea_ac0d_acde48001122row0_col4 {\n",
       "            width:  10em;\n",
       "             height:  80%;\n",
       "            background:  linear-gradient(90deg,#5fba7d 96.0%, transparent 96.0%);\n",
       "        }    #T_7e0be7d2_0ec6_11ea_ac0d_acde48001122row0_col5 {\n",
       "            width:  10em;\n",
       "             height:  80%;\n",
       "            background:  linear-gradient(90deg,#5fba7d 100.0%, transparent 100.0%);\n",
       "        }    #T_7e0be7d2_0ec6_11ea_ac0d_acde48001122row0_col6 {\n",
       "            width:  10em;\n",
       "             height:  80%;\n",
       "            background:  linear-gradient(90deg,#5fba7d 100.0%, transparent 100.0%);\n",
       "        }    #T_7e0be7d2_0ec6_11ea_ac0d_acde48001122row0_col7 {\n",
       "            width:  10em;\n",
       "             height:  80%;\n",
       "            background:  linear-gradient(90deg,#5fba7d 80.6%, transparent 80.6%);\n",
       "        }    #T_7e0be7d2_0ec6_11ea_ac0d_acde48001122row0_col8 {\n",
       "            width:  10em;\n",
       "             height:  80%;\n",
       "        }    #T_7e0be7d2_0ec6_11ea_ac0d_acde48001122row0_col9 {\n",
       "            width:  10em;\n",
       "             height:  80%;\n",
       "            background:  linear-gradient(90deg,#5fba7d 99.6%, transparent 99.6%);\n",
       "        }    #T_7e0be7d2_0ec6_11ea_ac0d_acde48001122row1_col0 {\n",
       "            width:  10em;\n",
       "             height:  80%;\n",
       "            background:  linear-gradient(90deg,#5fba7d 99.3%, transparent 99.3%);\n",
       "        }    #T_7e0be7d2_0ec6_11ea_ac0d_acde48001122row1_col1 {\n",
       "            width:  10em;\n",
       "             height:  80%;\n",
       "            background:  linear-gradient(90deg,#5fba7d 98.5%, transparent 98.5%);\n",
       "        }    #T_7e0be7d2_0ec6_11ea_ac0d_acde48001122row1_col2 {\n",
       "            width:  10em;\n",
       "             height:  80%;\n",
       "            background:  linear-gradient(90deg,#5fba7d 86.0%, transparent 86.0%);\n",
       "        }    #T_7e0be7d2_0ec6_11ea_ac0d_acde48001122row1_col3 {\n",
       "            width:  10em;\n",
       "             height:  80%;\n",
       "            background:  linear-gradient(90deg,#5fba7d 97.3%, transparent 97.3%);\n",
       "        }    #T_7e0be7d2_0ec6_11ea_ac0d_acde48001122row1_col4 {\n",
       "            width:  10em;\n",
       "             height:  80%;\n",
       "            background:  linear-gradient(90deg,#5fba7d 96.6%, transparent 96.6%);\n",
       "        }    #T_7e0be7d2_0ec6_11ea_ac0d_acde48001122row1_col5 {\n",
       "            width:  10em;\n",
       "             height:  80%;\n",
       "            background:  linear-gradient(90deg,#5fba7d 98.7%, transparent 98.7%);\n",
       "        }    #T_7e0be7d2_0ec6_11ea_ac0d_acde48001122row1_col6 {\n",
       "            width:  10em;\n",
       "             height:  80%;\n",
       "            background:  linear-gradient(90deg,#5fba7d 71.7%, transparent 71.7%);\n",
       "        }    #T_7e0be7d2_0ec6_11ea_ac0d_acde48001122row1_col7 {\n",
       "            width:  10em;\n",
       "             height:  80%;\n",
       "            background:  linear-gradient(90deg,#5fba7d 100.0%, transparent 100.0%);\n",
       "        }    #T_7e0be7d2_0ec6_11ea_ac0d_acde48001122row1_col8 {\n",
       "            width:  10em;\n",
       "             height:  80%;\n",
       "            background:  linear-gradient(90deg,#5fba7d 32.9%, transparent 32.9%);\n",
       "        }    #T_7e0be7d2_0ec6_11ea_ac0d_acde48001122row1_col9 {\n",
       "            width:  10em;\n",
       "             height:  80%;\n",
       "            background:  linear-gradient(90deg,#5fba7d 98.7%, transparent 98.7%);\n",
       "        }    #T_7e0be7d2_0ec6_11ea_ac0d_acde48001122row2_col0 {\n",
       "            width:  10em;\n",
       "             height:  80%;\n",
       "            background:  linear-gradient(90deg,#5fba7d 100.0%, transparent 100.0%);\n",
       "        }    #T_7e0be7d2_0ec6_11ea_ac0d_acde48001122row2_col1 {\n",
       "            width:  10em;\n",
       "             height:  80%;\n",
       "            background:  linear-gradient(90deg,#5fba7d 70.9%, transparent 70.9%);\n",
       "        }    #T_7e0be7d2_0ec6_11ea_ac0d_acde48001122row2_col2 {\n",
       "            width:  10em;\n",
       "             height:  80%;\n",
       "            background:  linear-gradient(90deg,#5fba7d 70.1%, transparent 70.1%);\n",
       "        }    #T_7e0be7d2_0ec6_11ea_ac0d_acde48001122row2_col3 {\n",
       "            width:  10em;\n",
       "             height:  80%;\n",
       "            background:  linear-gradient(90deg,#5fba7d 96.7%, transparent 96.7%);\n",
       "        }    #T_7e0be7d2_0ec6_11ea_ac0d_acde48001122row2_col4 {\n",
       "            width:  10em;\n",
       "             height:  80%;\n",
       "            background:  linear-gradient(90deg,#5fba7d 97.4%, transparent 97.4%);\n",
       "        }    #T_7e0be7d2_0ec6_11ea_ac0d_acde48001122row2_col5 {\n",
       "            width:  10em;\n",
       "             height:  80%;\n",
       "            background:  linear-gradient(90deg,#5fba7d 100.0%, transparent 100.0%);\n",
       "        }    #T_7e0be7d2_0ec6_11ea_ac0d_acde48001122row2_col6 {\n",
       "            width:  10em;\n",
       "             height:  80%;\n",
       "            background:  linear-gradient(90deg,#5fba7d 91.3%, transparent 91.3%);\n",
       "        }    #T_7e0be7d2_0ec6_11ea_ac0d_acde48001122row2_col7 {\n",
       "            width:  10em;\n",
       "             height:  80%;\n",
       "            background:  linear-gradient(90deg,#5fba7d 86.5%, transparent 86.5%);\n",
       "        }    #T_7e0be7d2_0ec6_11ea_ac0d_acde48001122row2_col8 {\n",
       "            width:  10em;\n",
       "             height:  80%;\n",
       "        }    #T_7e0be7d2_0ec6_11ea_ac0d_acde48001122row2_col9 {\n",
       "            width:  10em;\n",
       "             height:  80%;\n",
       "            background:  linear-gradient(90deg,#5fba7d 100.0%, transparent 100.0%);\n",
       "        }    #T_7e0be7d2_0ec6_11ea_ac0d_acde48001122row3_col0 {\n",
       "            width:  10em;\n",
       "             height:  80%;\n",
       "            background:  linear-gradient(90deg,#5fba7d 93.9%, transparent 93.9%);\n",
       "        }    #T_7e0be7d2_0ec6_11ea_ac0d_acde48001122row3_col1 {\n",
       "            width:  10em;\n",
       "             height:  80%;\n",
       "            background:  linear-gradient(90deg,#5fba7d 55.8%, transparent 55.8%);\n",
       "        }    #T_7e0be7d2_0ec6_11ea_ac0d_acde48001122row3_col2 {\n",
       "            width:  10em;\n",
       "             height:  80%;\n",
       "            background:  linear-gradient(90deg,#5fba7d 41.3%, transparent 41.3%);\n",
       "        }    #T_7e0be7d2_0ec6_11ea_ac0d_acde48001122row3_col3 {\n",
       "            width:  10em;\n",
       "             height:  80%;\n",
       "            background:  linear-gradient(90deg,#5fba7d 97.3%, transparent 97.3%);\n",
       "        }    #T_7e0be7d2_0ec6_11ea_ac0d_acde48001122row3_col4 {\n",
       "            width:  10em;\n",
       "             height:  80%;\n",
       "            background:  linear-gradient(90deg,#5fba7d 100.0%, transparent 100.0%);\n",
       "        }    #T_7e0be7d2_0ec6_11ea_ac0d_acde48001122row3_col5 {\n",
       "            width:  10em;\n",
       "             height:  80%;\n",
       "            background:  linear-gradient(90deg,#5fba7d 98.0%, transparent 98.0%);\n",
       "        }    #T_7e0be7d2_0ec6_11ea_ac0d_acde48001122row3_col6 {\n",
       "            width:  10em;\n",
       "             height:  80%;\n",
       "            background:  linear-gradient(90deg,#5fba7d 72.7%, transparent 72.7%);\n",
       "        }    #T_7e0be7d2_0ec6_11ea_ac0d_acde48001122row3_col7 {\n",
       "            width:  10em;\n",
       "             height:  80%;\n",
       "            background:  linear-gradient(90deg,#5fba7d 93.1%, transparent 93.1%);\n",
       "        }    #T_7e0be7d2_0ec6_11ea_ac0d_acde48001122row3_col8 {\n",
       "            width:  10em;\n",
       "             height:  80%;\n",
       "            background:  linear-gradient(90deg,#5fba7d 100.0%, transparent 100.0%);\n",
       "        }    #T_7e0be7d2_0ec6_11ea_ac0d_acde48001122row3_col9 {\n",
       "            width:  10em;\n",
       "             height:  80%;\n",
       "            background:  linear-gradient(90deg,#5fba7d 100.0%, transparent 100.0%);\n",
       "        }</style><table id=\"T_7e0be7d2_0ec6_11ea_ac0d_acde48001122\" ><thead>    <tr>        <th class=\"blank level0\" ></th>        <th class=\"col_heading level0 col0\" >mean_bank</th>        <th class=\"col_heading level0 col1\" >mean_crop_insurance</th>        <th class=\"col_heading level0 col2\" >mean_life_insurance</th>        <th class=\"col_heading level0 col3\" >mean_cell_phone</th>        <th class=\"col_heading level0 col4\" >mean_cooler</th>        <th class=\"col_heading level0 col5\" >mean_electricity</th>        <th class=\"col_heading level0 col6\" >mean_fridge</th>        <th class=\"col_heading level0 col7\" >mean_housing</th>        <th class=\"col_heading level0 col8\" >mean_loan</th>        <th class=\"col_heading level0 col9\" >mean_tv</th>    </tr>    <tr>        <th class=\"index_name level0\" >cluster</th>        <th class=\"blank\" ></th>        <th class=\"blank\" ></th>        <th class=\"blank\" ></th>        <th class=\"blank\" ></th>        <th class=\"blank\" ></th>        <th class=\"blank\" ></th>        <th class=\"blank\" ></th>        <th class=\"blank\" ></th>        <th class=\"blank\" ></th>        <th class=\"blank\" ></th>    </tr></thead><tbody>\n",
       "                <tr>\n",
       "                        <th id=\"T_7e0be7d2_0ec6_11ea_ac0d_acde48001122level0_row0\" class=\"row_heading level0 row0\" >1</th>\n",
       "                        <td id=\"T_7e0be7d2_0ec6_11ea_ac0d_acde48001122row0_col0\" class=\"data row0 col0\" >0.992982</td>\n",
       "                        <td id=\"T_7e0be7d2_0ec6_11ea_ac0d_acde48001122row0_col1\" class=\"data row0 col1\" >0.694737</td>\n",
       "                        <td id=\"T_7e0be7d2_0ec6_11ea_ac0d_acde48001122row0_col2\" class=\"data row0 col2\" >0.592982</td>\n",
       "                        <td id=\"T_7e0be7d2_0ec6_11ea_ac0d_acde48001122row0_col3\" class=\"data row0 col3\" >0.985965</td>\n",
       "                        <td id=\"T_7e0be7d2_0ec6_11ea_ac0d_acde48001122row0_col4\" class=\"data row0 col4\" >0.940351</td>\n",
       "                        <td id=\"T_7e0be7d2_0ec6_11ea_ac0d_acde48001122row0_col5\" class=\"data row0 col5\" >1</td>\n",
       "                        <td id=\"T_7e0be7d2_0ec6_11ea_ac0d_acde48001122row0_col6\" class=\"data row0 col6\" >0.505263</td>\n",
       "                        <td id=\"T_7e0be7d2_0ec6_11ea_ac0d_acde48001122row0_col7\" class=\"data row0 col7\" >0.529825</td>\n",
       "                        <td id=\"T_7e0be7d2_0ec6_11ea_ac0d_acde48001122row0_col8\" class=\"data row0 col8\" >0</td>\n",
       "                        <td id=\"T_7e0be7d2_0ec6_11ea_ac0d_acde48001122row0_col9\" class=\"data row0 col9\" >0.996491</td>\n",
       "            </tr>\n",
       "            <tr>\n",
       "                        <th id=\"T_7e0be7d2_0ec6_11ea_ac0d_acde48001122level0_row1\" class=\"row_heading level0 row1\" >2</th>\n",
       "                        <td id=\"T_7e0be7d2_0ec6_11ea_ac0d_acde48001122row1_col0\" class=\"data row1 col0\" >0.993289</td>\n",
       "                        <td id=\"T_7e0be7d2_0ec6_11ea_ac0d_acde48001122row1_col1\" class=\"data row1 col1\" >0.684564</td>\n",
       "                        <td id=\"T_7e0be7d2_0ec6_11ea_ac0d_acde48001122row1_col2\" class=\"data row1 col2\" >0.510067</td>\n",
       "                        <td id=\"T_7e0be7d2_0ec6_11ea_ac0d_acde48001122row1_col3\" class=\"data row1 col3\" >0.959732</td>\n",
       "                        <td id=\"T_7e0be7d2_0ec6_11ea_ac0d_acde48001122row1_col4\" class=\"data row1 col4\" >0.946309</td>\n",
       "                        <td id=\"T_7e0be7d2_0ec6_11ea_ac0d_acde48001122row1_col5\" class=\"data row1 col5\" >0.986577</td>\n",
       "                        <td id=\"T_7e0be7d2_0ec6_11ea_ac0d_acde48001122row1_col6\" class=\"data row1 col6\" >0.362416</td>\n",
       "                        <td id=\"T_7e0be7d2_0ec6_11ea_ac0d_acde48001122row1_col7\" class=\"data row1 col7\" >0.657718</td>\n",
       "                        <td id=\"T_7e0be7d2_0ec6_11ea_ac0d_acde48001122row1_col8\" class=\"data row1 col8\" >0.00671141</td>\n",
       "                        <td id=\"T_7e0be7d2_0ec6_11ea_ac0d_acde48001122row1_col9\" class=\"data row1 col9\" >0.986577</td>\n",
       "            </tr>\n",
       "            <tr>\n",
       "                        <th id=\"T_7e0be7d2_0ec6_11ea_ac0d_acde48001122level0_row2\" class=\"row_heading level0 row2\" >3</th>\n",
       "                        <td id=\"T_7e0be7d2_0ec6_11ea_ac0d_acde48001122row2_col0\" class=\"data row2 col0\" >1</td>\n",
       "                        <td id=\"T_7e0be7d2_0ec6_11ea_ac0d_acde48001122row2_col1\" class=\"data row2 col1\" >0.492308</td>\n",
       "                        <td id=\"T_7e0be7d2_0ec6_11ea_ac0d_acde48001122row2_col2\" class=\"data row2 col2\" >0.415385</td>\n",
       "                        <td id=\"T_7e0be7d2_0ec6_11ea_ac0d_acde48001122row2_col3\" class=\"data row2 col3\" >0.953846</td>\n",
       "                        <td id=\"T_7e0be7d2_0ec6_11ea_ac0d_acde48001122row2_col4\" class=\"data row2 col4\" >0.953846</td>\n",
       "                        <td id=\"T_7e0be7d2_0ec6_11ea_ac0d_acde48001122row2_col5\" class=\"data row2 col5\" >1</td>\n",
       "                        <td id=\"T_7e0be7d2_0ec6_11ea_ac0d_acde48001122row2_col6\" class=\"data row2 col6\" >0.461538</td>\n",
       "                        <td id=\"T_7e0be7d2_0ec6_11ea_ac0d_acde48001122row2_col7\" class=\"data row2 col7\" >0.569231</td>\n",
       "                        <td id=\"T_7e0be7d2_0ec6_11ea_ac0d_acde48001122row2_col8\" class=\"data row2 col8\" >0</td>\n",
       "                        <td id=\"T_7e0be7d2_0ec6_11ea_ac0d_acde48001122row2_col9\" class=\"data row2 col9\" >1</td>\n",
       "            </tr>\n",
       "            <tr>\n",
       "                        <th id=\"T_7e0be7d2_0ec6_11ea_ac0d_acde48001122level0_row3\" class=\"row_heading level0 row3\" >4</th>\n",
       "                        <td id=\"T_7e0be7d2_0ec6_11ea_ac0d_acde48001122row3_col0\" class=\"data row3 col0\" >0.938776</td>\n",
       "                        <td id=\"T_7e0be7d2_0ec6_11ea_ac0d_acde48001122row3_col1\" class=\"data row3 col1\" >0.387755</td>\n",
       "                        <td id=\"T_7e0be7d2_0ec6_11ea_ac0d_acde48001122row3_col2\" class=\"data row3 col2\" >0.244898</td>\n",
       "                        <td id=\"T_7e0be7d2_0ec6_11ea_ac0d_acde48001122row3_col3\" class=\"data row3 col3\" >0.959184</td>\n",
       "                        <td id=\"T_7e0be7d2_0ec6_11ea_ac0d_acde48001122row3_col4\" class=\"data row3 col4\" >0.979592</td>\n",
       "                        <td id=\"T_7e0be7d2_0ec6_11ea_ac0d_acde48001122row3_col5\" class=\"data row3 col5\" >0.979592</td>\n",
       "                        <td id=\"T_7e0be7d2_0ec6_11ea_ac0d_acde48001122row3_col6\" class=\"data row3 col6\" >0.367347</td>\n",
       "                        <td id=\"T_7e0be7d2_0ec6_11ea_ac0d_acde48001122row3_col7\" class=\"data row3 col7\" >0.612245</td>\n",
       "                        <td id=\"T_7e0be7d2_0ec6_11ea_ac0d_acde48001122row3_col8\" class=\"data row3 col8\" >0.0204082</td>\n",
       "                        <td id=\"T_7e0be7d2_0ec6_11ea_ac0d_acde48001122row3_col9\" class=\"data row3 col9\" >1</td>\n",
       "            </tr>\n",
       "    </tbody></table>"
      ],
      "text/plain": [
       "<pandas.io.formats.style.Styler at 0x12f0a7d30>"
      ]
     },
     "execution_count": 41,
     "metadata": {},
     "output_type": "execute_result"
    }
   ],
   "source": [
    "# Socioeconomic\n",
    "df.groupby('cluster').agg(mean_bank = ('bank_account','mean'), mean_crop_insurance = ('crop_insurance','mean'), mean_life_insurance = ('life_insurance','mean'),\n",
    "                          mean_cell_phone = ('cell_phone','mean'), mean_cooler = ('cooler','mean'), mean_electricity = ('electricity','mean'),\n",
    "                         mean_fridge = ('fridge','mean'), mean_housing = ('housing','mean'), mean_loan = ('loan','mean'), \n",
    "                          mean_tv = ('tv','mean')).style.bar(align='mid',color =['#d65f5f','#5fba7d'])"
   ]
  },
  {
   "cell_type": "code",
   "execution_count": 42,
   "metadata": {},
   "outputs": [
    {
     "data": {
      "text/plain": [
       "<matplotlib.axes._subplots.AxesSubplot at 0x12f177a58>"
      ]
     },
     "execution_count": 42,
     "metadata": {},
     "output_type": "execute_result"
    },
    {
     "data": {
      "image/png": "[encoded data removed]",
      "text/plain": [
       "<Figure size 864x576 with 1 Axes>"
      ]
     },
     "metadata": {
      "needs_background": "light"
     },
     "output_type": "display_data"
    }
   ],
   "source": [
    "# Socioeconomic\n",
    "df.groupby('cluster').agg(mean_bank = ('bank_account','mean'), mean_crop_insurance = ('crop_insurance','mean'), mean_life_insurance = ('life_insurance','mean'),\n",
    "                          mean_loan = ('loan','mean')).T.plot.barh(figsize=(12,8))"
   ]
  },
  {
   "cell_type": "code",
   "execution_count": 43,
   "metadata": {},
   "outputs": [
    {
     "data": {
      "text/plain": [
       "<matplotlib.axes._subplots.AxesSubplot at 0x12f441080>"
      ]
     },
     "execution_count": 43,
     "metadata": {},
     "output_type": "execute_result"
    },
    {
     "data": {
      "image/png": "[encoded data removed]",
      "text/plain": [
       "<Figure size 864x576 with 1 Axes>"
      ]
     },
     "metadata": {
      "needs_background": "light"
     },
     "output_type": "display_data"
    }
   ],
   "source": [
    "# Profit and Loss\n",
    "df.groupby('cluster').agg(mean_income_organic = ('income_organic','mean'), mean_income_intercrop = ('income_intercrop','mean'), mean_income_other = ('income_other','mean'), \n",
    "                          mean_cotton_income = ('cotton_income','mean'), mean_livestock_income = ('livestock_income','mean'),\n",
    "                          mean_input_cost = ('input_cost','mean'), mean_animal_cost = ('animal_cost','mean'), mean_irrigation_cost = ('irrigation_cost','mean'), \n",
    "                          mean_machinery_cost = ('machinery_cost','mean'), mean_labour_cost = ('labour_cost','mean')).T.plot.barh(figsize=(12,8))"
   ]
  },
  {
   "cell_type": "code",
   "execution_count": 44,
   "metadata": {},
   "outputs": [
    {
     "data": {
      "text/plain": [
       "<matplotlib.axes._subplots.AxesSubplot at 0x12f6c6240>"
      ]
     },
     "execution_count": 44,
     "metadata": {},
     "output_type": "execute_result"
    },
    {
     "data": {
      "image/png": "[encoded data removed]",
      "text/plain": [
       "<Figure size 432x288 with 1 Axes>"
      ]
     },
     "metadata": {
      "needs_background": "light"
     },
     "output_type": "display_data"
    }
   ],
   "source": [
    "sns.violinplot(x='cluster', y='labour_cost', data=df.query('income_other < 50000'))"
   ]
  },
  {
   "cell_type": "code",
   "execution_count": 45,
   "metadata": {},
   "outputs": [
    {
     "data": {
      "text/html": [
       "<div>\n",
       "<style scoped>\n",
       "    .dataframe tbody tr th:only-of-type {\n",
       "        vertical-align: middle;\n",
       "    }\n",
       "\n",
       "    .dataframe tbody tr th {\n",
       "        vertical-align: top;\n",
       "    }\n",
       "\n",
       "    .dataframe thead th {\n",
       "        text-align: right;\n",
       "    }\n",
       "</style>\n",
       "<table border=\"1\" class=\"dataframe\">\n",
       "  <thead>\n",
       "    <tr style=\"text-align: right;\">\n",
       "      <th></th>\n",
       "      <th>irrigation_source</th>\n",
       "      <th>irrigation_cost</th>\n",
       "      <th>irrigation_status</th>\n",
       "      <th>total_cost</th>\n",
       "      <th>labour_cost</th>\n",
       "      <th>life_insurance</th>\n",
       "      <th>intercrop_name</th>\n",
       "      <th>seed_type</th>\n",
       "      <th>machinery_cost</th>\n",
       "      <th>weeder</th>\n",
       "    </tr>\n",
       "    <tr>\n",
       "      <th>cluster</th>\n",
       "      <th></th>\n",
       "      <th></th>\n",
       "      <th></th>\n",
       "      <th></th>\n",
       "      <th></th>\n",
       "      <th></th>\n",
       "      <th></th>\n",
       "      <th></th>\n",
       "      <th></th>\n",
       "      <th></th>\n",
       "    </tr>\n",
       "  </thead>\n",
       "  <tbody>\n",
       "    <tr>\n",
       "      <th>1</th>\n",
       "      <td>2.126316</td>\n",
       "      <td>444.694737</td>\n",
       "      <td>0.000000</td>\n",
       "      <td>5070.326316</td>\n",
       "      <td>3205.263158</td>\n",
       "      <td>0.592982</td>\n",
       "      <td>0.0</td>\n",
       "      <td>1.0</td>\n",
       "      <td>633.473684</td>\n",
       "      <td>0.487719</td>\n",
       "    </tr>\n",
       "    <tr>\n",
       "      <th>2</th>\n",
       "      <td>2.181208</td>\n",
       "      <td>472.315436</td>\n",
       "      <td>0.000000</td>\n",
       "      <td>3681.375839</td>\n",
       "      <td>1732.550336</td>\n",
       "      <td>0.510067</td>\n",
       "      <td>1.0</td>\n",
       "      <td>0.0</td>\n",
       "      <td>1276.510067</td>\n",
       "      <td>0.489933</td>\n",
       "    </tr>\n",
       "    <tr>\n",
       "      <th>3</th>\n",
       "      <td>0.000000</td>\n",
       "      <td>0.000000</td>\n",
       "      <td>1.000000</td>\n",
       "      <td>4427.261538</td>\n",
       "      <td>2620.000000</td>\n",
       "      <td>0.415385</td>\n",
       "      <td>0.0</td>\n",
       "      <td>1.0</td>\n",
       "      <td>667.846154</td>\n",
       "      <td>0.492308</td>\n",
       "    </tr>\n",
       "    <tr>\n",
       "      <th>4</th>\n",
       "      <td>0.000000</td>\n",
       "      <td>0.000000</td>\n",
       "      <td>0.979592</td>\n",
       "      <td>3173.469388</td>\n",
       "      <td>1659.183673</td>\n",
       "      <td>0.244898</td>\n",
       "      <td>1.0</td>\n",
       "      <td>0.0</td>\n",
       "      <td>1200.000000</td>\n",
       "      <td>0.612245</td>\n",
       "    </tr>\n",
       "  </tbody>\n",
       "</table>\n",
       "</div>"
      ],
      "text/plain": [
       "         irrigation_source  irrigation_cost  irrigation_status   total_cost  \\\n",
       "cluster                                                                       \n",
       "1                 2.126316       444.694737           0.000000  5070.326316   \n",
       "2                 2.181208       472.315436           0.000000  3681.375839   \n",
       "3                 0.000000         0.000000           1.000000  4427.261538   \n",
       "4                 0.000000         0.000000           0.979592  3173.469388   \n",
       "\n",
       "         labour_cost  life_insurance  intercrop_name  seed_type  \\\n",
       "cluster                                                           \n",
       "1        3205.263158        0.592982             0.0        1.0   \n",
       "2        1732.550336        0.510067             1.0        0.0   \n",
       "3        2620.000000        0.415385             0.0        1.0   \n",
       "4        1659.183673        0.244898             1.0        0.0   \n",
       "\n",
       "         machinery_cost    weeder  \n",
       "cluster                            \n",
       "1            633.473684  0.487719  \n",
       "2           1276.510067  0.489933  \n",
       "3            667.846154  0.492308  \n",
       "4           1200.000000  0.612245  "
      ]
     },
     "execution_count": 45,
     "metadata": {},
     "output_type": "execute_result"
    }
   ],
   "source": [
    "df.groupby('cluster')[var_importance['var'][:10]].mean()"
   ]
  },
  {
   "cell_type": "code",
   "execution_count": 46,
   "metadata": {},
   "outputs": [
    {
     "data": {
      "text/plain": [
       "cluster  irrigation_source\n",
       "1        2                    201\n",
       "         1                     44\n",
       "         4                     34\n",
       "         3                      4\n",
       "         6                      2\n",
       "2        2                    119\n",
       "         4                     16\n",
       "         1                     11\n",
       "         3                      2\n",
       "         6                      1\n",
       "3        0                     65\n",
       "4        0                     49\n",
       "Name: irrigation_source, dtype: int64"
      ]
     },
     "execution_count": 46,
     "metadata": {},
     "output_type": "execute_result"
    }
   ],
   "source": [
    "df.groupby('cluster')['irrigation_source'].value_counts()"
   ]
  },
  {
   "cell_type": "markdown",
   "metadata": {},
   "source": [
    "#### Explore only variables that are not contained in the calculation of the Adaptation score"
   ]
  },
  {
   "cell_type": "code",
   "execution_count": 47,
   "metadata": {},
   "outputs": [],
   "source": [
    "adapt = pd.read_csv('SOLIDARIDAD - DATASETS/INDIA_COTTON/IN_cotton_adaptation.csv')"
   ]
  },
  {
   "cell_type": "code",
   "execution_count": 48,
   "metadata": {},
   "outputs": [],
   "source": [
    "non_adapt_vars = list(set(df.columns) - set(adapt.columns))"
   ]
  },
  {
   "cell_type": "code",
   "execution_count": 49,
   "metadata": {},
   "outputs": [
    {
     "data": {
      "text/plain": [
       "['postharvest_acre',\n",
       " 'total_cost',\n",
       " 'cows',\n",
       " 'cluster',\n",
       " 'income_organic',\n",
       " 'goats',\n",
       " 'bulls',\n",
       " 'other_cost',\n",
       " 'staple_lengt',\n",
       " 'input_cost',\n",
       " 'mitigation_score_abs',\n",
       " 'buffalos',\n",
       " 'income_other',\n",
       " 'sheep',\n",
       " 'machinery_cost',\n",
       " 'cotton_income',\n",
       " 'irrigation_cost',\n",
       " 'biopesticide',\n",
       " 'animal_cost',\n",
       " 'intercrop_rate',\n",
       " 'landholding',\n",
       " 'livestock_income',\n",
       " 'cotton_price',\n",
       " 'poultry',\n",
       " 'labour_cost',\n",
       " 'intercrop_name',\n",
       " 'income_intercrop']"
      ]
     },
     "execution_count": 49,
     "metadata": {},
     "output_type": "execute_result"
    }
   ],
   "source": [
    "non_adapt_vars"
   ]
  },
  {
   "cell_type": "markdown",
   "metadata": {},
   "source": [
    "#### Exploring income variables in the clusters"
   ]
  },
  {
   "cell_type": "code",
   "execution_count": 50,
   "metadata": {},
   "outputs": [
    {
     "data": {
      "text/plain": [
       "<matplotlib.axes._subplots.AxesSubplot at 0x12f6e76a0>"
      ]
     },
     "execution_count": 50,
     "metadata": {},
     "output_type": "execute_result"
    },
    {
     "data": {
      "image/png": "[encoded data removed]",
      "text/plain": [
       "<Figure size 432x288 with 1 Axes>"
      ]
     },
     "metadata": {
      "needs_background": "light"
     },
     "output_type": "display_data"
    }
   ],
   "source": [
    "sns.violinplot(x='cluster', y='cotton_income', data=df)"
   ]
  },
  {
   "cell_type": "code",
   "execution_count": 51,
   "metadata": {},
   "outputs": [
    {
     "data": {
      "text/plain": [
       "<matplotlib.axes._subplots.AxesSubplot at 0x12fa67048>"
      ]
     },
     "execution_count": 51,
     "metadata": {},
     "output_type": "execute_result"
    },
    {
     "data": {
      "image/png": "[encoded data removed]",
      "text/plain": [
       "<Figure size 432x288 with 1 Axes>"
      ]
     },
     "metadata": {
      "needs_background": "light"
     },
     "output_type": "display_data"
    }
   ],
   "source": [
    "sns.violinplot(x='cluster', y='income_intercrop', data=df)"
   ]
  },
  {
   "cell_type": "code",
   "execution_count": 52,
   "metadata": {},
   "outputs": [
    {
     "data": {
      "text/plain": [
       "<matplotlib.axes._subplots.AxesSubplot at 0x12fb4fba8>"
      ]
     },
     "execution_count": 52,
     "metadata": {},
     "output_type": "execute_result"
    },
    {
     "data": {
      "image/png": "[encoded data removed]",
      "text/plain": [
       "<Figure size 432x288 with 1 Axes>"
      ]
     },
     "metadata": {
      "needs_background": "light"
     },
     "output_type": "display_data"
    }
   ],
   "source": [
    "sns.violinplot(x='cluster', y='livestock_income', data=df)"
   ]
  },
  {
   "cell_type": "code",
   "execution_count": 53,
   "metadata": {},
   "outputs": [
    {
     "data": {
      "text/plain": [
       "<matplotlib.axes._subplots.AxesSubplot at 0x12fb46ac8>"
      ]
     },
     "execution_count": 53,
     "metadata": {},
     "output_type": "execute_result"
    },
    {
     "data": {
      "image/png": "[encoded data removed]",
      "text/plain": [
       "<Figure size 432x288 with 1 Axes>"
      ]
     },
     "metadata": {
      "needs_background": "light"
     },
     "output_type": "display_data"
    }
   ],
   "source": [
    "sns.violinplot(x='cluster', y='income_organic', data=df)"
   ]
  },
  {
   "cell_type": "code",
   "execution_count": 54,
   "metadata": {},
   "outputs": [
    {
     "data": {
      "text/plain": [
       "<matplotlib.axes._subplots.AxesSubplot at 0x12fd3f550>"
      ]
     },
     "execution_count": 54,
     "metadata": {},
     "output_type": "execute_result"
    },
    {
     "data": {
      "image/png": "[encoded data removed]",
      "text/plain": [
       "<Figure size 432x288 with 1 Axes>"
      ]
     },
     "metadata": {
      "needs_background": "light"
     },
     "output_type": "display_data"
    }
   ],
   "source": [
    "# Filtering for Income Other over 50,000\n",
    "sns.violinplot(x='cluster', y='income_other', data=df.query('income_other < 50000'))"
   ]
  },
  {
   "cell_type": "markdown",
   "metadata": {},
   "source": [
    "### Exploring Cost Variables in the cluster"
   ]
  },
  {
   "cell_type": "code",
   "execution_count": 55,
   "metadata": {},
   "outputs": [
    {
     "data": {
      "text/plain": [
       "<matplotlib.axes._subplots.AxesSubplot at 0x12fc54390>"
      ]
     },
     "execution_count": 55,
     "metadata": {},
     "output_type": "execute_result"
    },
    {
     "data": {
      "image/png": "[encoded data removed]",
      "text/plain": [
       "<Figure size 432x288 with 1 Axes>"
      ]
     },
     "metadata": {
      "needs_background": "light"
     },
     "output_type": "display_data"
    }
   ],
   "source": [
    "sns.violinplot(x='cluster', y='irrigation_cost', data=df)"
   ]
  },
  {
   "cell_type": "code",
   "execution_count": 56,
   "metadata": {},
   "outputs": [
    {
     "data": {
      "text/plain": [
       "<matplotlib.axes._subplots.AxesSubplot at 0x10463a710>"
      ]
     },
     "execution_count": 56,
     "metadata": {},
     "output_type": "execute_result"
    },
    {
     "data": {
      "image/png": "[encoded data removed]",
      "text/plain": [
       "<Figure size 432x288 with 1 Axes>"
      ]
     },
     "metadata": {
      "needs_background": "light"
     },
     "output_type": "display_data"
    }
   ],
   "source": [
    "sns.violinplot(x='cluster', y='other_cost', data=df)"
   ]
  },
  {
   "cell_type": "code",
   "execution_count": 57,
   "metadata": {},
   "outputs": [
    {
     "data": {
      "text/plain": [
       "<matplotlib.axes._subplots.AxesSubplot at 0x12feeef28>"
      ]
     },
     "execution_count": 57,
     "metadata": {},
     "output_type": "execute_result"
    },
    {
     "data": {
      "image/png": "[encoded data removed]",
      "text/plain": [
       "<Figure size 432x288 with 1 Axes>"
      ]
     },
     "metadata": {
      "needs_background": "light"
     },
     "output_type": "display_data"
    }
   ],
   "source": [
    "sns.violinplot(x='cluster', y='animal_cost', data=df)"
   ]
  },
  {
   "cell_type": "code",
   "execution_count": 58,
   "metadata": {},
   "outputs": [
    {
     "data": {
      "text/plain": [
       "<matplotlib.axes._subplots.AxesSubplot at 0x12ffd72e8>"
      ]
     },
     "execution_count": 58,
     "metadata": {},
     "output_type": "execute_result"
    },
    {
     "data": {
      "image/png": "[encoded data removed]",
      "text/plain": [
       "<Figure size 432x288 with 1 Axes>"
      ]
     },
     "metadata": {
      "needs_background": "light"
     },
     "output_type": "display_data"
    }
   ],
   "source": [
    "sns.violinplot(x='cluster', y='machinery_cost', data=df)"
   ]
  },
  {
   "cell_type": "code",
   "execution_count": 59,
   "metadata": {},
   "outputs": [
    {
     "data": {
      "text/plain": [
       "<matplotlib.axes._subplots.AxesSubplot at 0x1300e66a0>"
      ]
     },
     "execution_count": 59,
     "metadata": {},
     "output_type": "execute_result"
    },
    {
     "data": {
      "image/png": "[encoded data removed]",
      "text/plain": [
       "<Figure size 432x288 with 1 Axes>"
      ]
     },
     "metadata": {
      "needs_background": "light"
     },
     "output_type": "display_data"
    }
   ],
   "source": [
    "sns.violinplot(x='cluster', y='labour_cost', data=df)"
   ]
  },
  {
   "cell_type": "code",
   "execution_count": 60,
   "metadata": {},
   "outputs": [
    {
     "data": {
      "text/plain": [
       "<matplotlib.axes._subplots.AxesSubplot at 0x1301db240>"
      ]
     },
     "execution_count": 60,
     "metadata": {},
     "output_type": "execute_result"
    },
    {
     "data": {
      "image/png": "[encoded data removed]",
      "text/plain": [
       "<Figure size 432x288 with 1 Axes>"
      ]
     },
     "metadata": {
      "needs_background": "light"
     },
     "output_type": "display_data"
    }
   ],
   "source": [
    "sns.violinplot(x='cluster', y='total_cost', data=df)"
   ]
  },
  {
   "cell_type": "markdown",
   "metadata": {},
   "source": [
    "### Exploring animal ownership"
   ]
  },
  {
   "cell_type": "code",
   "execution_count": 61,
   "metadata": {},
   "outputs": [
    {
     "data": {
      "text/html": [
       "<style  type=\"text/css\" >\n",
       "    #T_80562138_0ec6_11ea_ac0d_acde48001122row0_col0 {\n",
       "            width:  10em;\n",
       "             height:  80%;\n",
       "            background:  linear-gradient(90deg,#5fba7d 99.0%, transparent 99.0%);\n",
       "        }    #T_80562138_0ec6_11ea_ac0d_acde48001122row0_col1 {\n",
       "            width:  10em;\n",
       "             height:  80%;\n",
       "            background:  linear-gradient(90deg,#5fba7d 94.6%, transparent 94.6%);\n",
       "        }    #T_80562138_0ec6_11ea_ac0d_acde48001122row0_col2 {\n",
       "            width:  10em;\n",
       "             height:  80%;\n",
       "            background:  linear-gradient(90deg,#5fba7d 96.9%, transparent 96.9%);\n",
       "        }    #T_80562138_0ec6_11ea_ac0d_acde48001122row0_col3 {\n",
       "            width:  10em;\n",
       "             height:  80%;\n",
       "            background:  linear-gradient(90deg,#5fba7d 97.9%, transparent 97.9%);\n",
       "        }    #T_80562138_0ec6_11ea_ac0d_acde48001122row0_col4 {\n",
       "            width:  10em;\n",
       "             height:  80%;\n",
       "            background:  linear-gradient(90deg,#5fba7d 97.4%, transparent 97.4%);\n",
       "        }    #T_80562138_0ec6_11ea_ac0d_acde48001122row0_col5 {\n",
       "            width:  10em;\n",
       "             height:  80%;\n",
       "            background:  linear-gradient(90deg,#5fba7d 98.6%, transparent 98.6%);\n",
       "        }    #T_80562138_0ec6_11ea_ac0d_acde48001122row1_col0 {\n",
       "            width:  10em;\n",
       "             height:  80%;\n",
       "            background:  linear-gradient(90deg,#5fba7d 96.3%, transparent 96.3%);\n",
       "        }    #T_80562138_0ec6_11ea_ac0d_acde48001122row1_col1 {\n",
       "            width:  10em;\n",
       "             height:  80%;\n",
       "            background:  linear-gradient(90deg,#5fba7d 97.2%, transparent 97.2%);\n",
       "        }    #T_80562138_0ec6_11ea_ac0d_acde48001122row1_col2 {\n",
       "            width:  10em;\n",
       "             height:  80%;\n",
       "            background:  linear-gradient(90deg,#5fba7d 95.8%, transparent 95.8%);\n",
       "        }    #T_80562138_0ec6_11ea_ac0d_acde48001122row1_col3 {\n",
       "            width:  10em;\n",
       "             height:  80%;\n",
       "            background:  linear-gradient(90deg,#5fba7d 96.9%, transparent 96.9%);\n",
       "        }    #T_80562138_0ec6_11ea_ac0d_acde48001122row1_col4 {\n",
       "            width:  10em;\n",
       "             height:  80%;\n",
       "            background:  linear-gradient(90deg,#5fba7d 98.0%, transparent 98.0%);\n",
       "        }    #T_80562138_0ec6_11ea_ac0d_acde48001122row1_col5 {\n",
       "            width:  10em;\n",
       "             height:  80%;\n",
       "            background:  linear-gradient(90deg,#5fba7d 98.3%, transparent 98.3%);\n",
       "        }    #T_80562138_0ec6_11ea_ac0d_acde48001122row2_col0 {\n",
       "            width:  10em;\n",
       "             height:  80%;\n",
       "            background:  linear-gradient(90deg,#5fba7d 97.4%, transparent 97.4%);\n",
       "        }    #T_80562138_0ec6_11ea_ac0d_acde48001122row2_col1 {\n",
       "            width:  10em;\n",
       "             height:  80%;\n",
       "            background:  linear-gradient(90deg,#5fba7d 97.5%, transparent 97.5%);\n",
       "        }    #T_80562138_0ec6_11ea_ac0d_acde48001122row2_col2 {\n",
       "            width:  10em;\n",
       "             height:  80%;\n",
       "            background:  linear-gradient(90deg,#5fba7d 100.0%, transparent 100.0%);\n",
       "        }    #T_80562138_0ec6_11ea_ac0d_acde48001122row2_col3 {\n",
       "            width:  10em;\n",
       "             height:  80%;\n",
       "            background:  linear-gradient(90deg,#5fba7d 100.0%, transparent 100.0%);\n",
       "        }    #T_80562138_0ec6_11ea_ac0d_acde48001122row2_col4 {\n",
       "            width:  10em;\n",
       "             height:  80%;\n",
       "            background:  linear-gradient(90deg,#5fba7d 100.0%, transparent 100.0%);\n",
       "        }    #T_80562138_0ec6_11ea_ac0d_acde48001122row2_col5 {\n",
       "            width:  10em;\n",
       "             height:  80%;\n",
       "            background:  linear-gradient(90deg,#5fba7d 100.0%, transparent 100.0%);\n",
       "        }    #T_80562138_0ec6_11ea_ac0d_acde48001122row3_col0 {\n",
       "            width:  10em;\n",
       "             height:  80%;\n",
       "            background:  linear-gradient(90deg,#5fba7d 100.0%, transparent 100.0%);\n",
       "        }    #T_80562138_0ec6_11ea_ac0d_acde48001122row3_col1 {\n",
       "            width:  10em;\n",
       "             height:  80%;\n",
       "            background:  linear-gradient(90deg,#5fba7d 100.0%, transparent 100.0%);\n",
       "        }    #T_80562138_0ec6_11ea_ac0d_acde48001122row3_col2 {\n",
       "            width:  10em;\n",
       "             height:  80%;\n",
       "            background:  linear-gradient(90deg,#5fba7d 97.4%, transparent 97.4%);\n",
       "        }    #T_80562138_0ec6_11ea_ac0d_acde48001122row3_col3 {\n",
       "            width:  10em;\n",
       "             height:  80%;\n",
       "            background:  linear-gradient(90deg,#5fba7d 97.5%, transparent 97.5%);\n",
       "        }    #T_80562138_0ec6_11ea_ac0d_acde48001122row3_col4 {\n",
       "            width:  10em;\n",
       "             height:  80%;\n",
       "            background:  linear-gradient(90deg,#5fba7d 95.7%, transparent 95.7%);\n",
       "        }    #T_80562138_0ec6_11ea_ac0d_acde48001122row3_col5 {\n",
       "            width:  10em;\n",
       "             height:  80%;\n",
       "            background:  linear-gradient(90deg,#5fba7d 99.0%, transparent 99.0%);\n",
       "        }</style><table id=\"T_80562138_0ec6_11ea_ac0d_acde48001122\" ><thead>    <tr>        <th class=\"blank level0\" ></th>        <th class=\"col_heading level0 col0\" >bulls</th>        <th class=\"col_heading level0 col1\" >buffalos</th>        <th class=\"col_heading level0 col2\" >poultry</th>        <th class=\"col_heading level0 col3\" >cows</th>        <th class=\"col_heading level0 col4\" >goats</th>        <th class=\"col_heading level0 col5\" >sheep</th>    </tr>    <tr>        <th class=\"index_name level0\" >cluster</th>        <th class=\"blank\" ></th>        <th class=\"blank\" ></th>        <th class=\"blank\" ></th>        <th class=\"blank\" ></th>        <th class=\"blank\" ></th>        <th class=\"blank\" ></th>    </tr></thead><tbody>\n",
       "                <tr>\n",
       "                        <th id=\"T_80562138_0ec6_11ea_ac0d_acde48001122level0_row0\" class=\"row_heading level0 row0\" >1</th>\n",
       "                        <td id=\"T_80562138_0ec6_11ea_ac0d_acde48001122row0_col0\" class=\"data row0 col0\" >1.94035</td>\n",
       "                        <td id=\"T_80562138_0ec6_11ea_ac0d_acde48001122row0_col1\" class=\"data row0 col1\" >1.77544</td>\n",
       "                        <td id=\"T_80562138_0ec6_11ea_ac0d_acde48001122row0_col2\" class=\"data row0 col2\" >1.90877</td>\n",
       "                        <td id=\"T_80562138_0ec6_11ea_ac0d_acde48001122row0_col3\" class=\"data row0 col3\" >1.02456</td>\n",
       "                        <td id=\"T_80562138_0ec6_11ea_ac0d_acde48001122row0_col4\" class=\"data row0 col4\" >1.82807</td>\n",
       "                        <td id=\"T_80562138_0ec6_11ea_ac0d_acde48001122row0_col5\" class=\"data row0 col5\" >1.97193</td>\n",
       "            </tr>\n",
       "            <tr>\n",
       "                        <th id=\"T_80562138_0ec6_11ea_ac0d_acde48001122level0_row1\" class=\"row_heading level0 row1\" >2</th>\n",
       "                        <td id=\"T_80562138_0ec6_11ea_ac0d_acde48001122row1_col0\" class=\"data row1 col0\" >1.88591</td>\n",
       "                        <td id=\"T_80562138_0ec6_11ea_ac0d_acde48001122row1_col1\" class=\"data row1 col1\" >1.8255</td>\n",
       "                        <td id=\"T_80562138_0ec6_11ea_ac0d_acde48001122row1_col2\" class=\"data row1 col2\" >1.88591</td>\n",
       "                        <td id=\"T_80562138_0ec6_11ea_ac0d_acde48001122row1_col3\" class=\"data row1 col3\" >1.01342</td>\n",
       "                        <td id=\"T_80562138_0ec6_11ea_ac0d_acde48001122row1_col4\" class=\"data row1 col4\" >1.83893</td>\n",
       "                        <td id=\"T_80562138_0ec6_11ea_ac0d_acde48001122row1_col5\" class=\"data row1 col5\" >1.96644</td>\n",
       "            </tr>\n",
       "            <tr>\n",
       "                        <th id=\"T_80562138_0ec6_11ea_ac0d_acde48001122level0_row2\" class=\"row_heading level0 row2\" >3</th>\n",
       "                        <td id=\"T_80562138_0ec6_11ea_ac0d_acde48001122row2_col0\" class=\"data row2 col0\" >1.90769</td>\n",
       "                        <td id=\"T_80562138_0ec6_11ea_ac0d_acde48001122row2_col1\" class=\"data row2 col1\" >1.83077</td>\n",
       "                        <td id=\"T_80562138_0ec6_11ea_ac0d_acde48001122row2_col2\" class=\"data row2 col2\" >1.96923</td>\n",
       "                        <td id=\"T_80562138_0ec6_11ea_ac0d_acde48001122row2_col3\" class=\"data row2 col3\" >1.04615</td>\n",
       "                        <td id=\"T_80562138_0ec6_11ea_ac0d_acde48001122row2_col4\" class=\"data row2 col4\" >1.87692</td>\n",
       "                        <td id=\"T_80562138_0ec6_11ea_ac0d_acde48001122row2_col5\" class=\"data row2 col5\" >2</td>\n",
       "            </tr>\n",
       "            <tr>\n",
       "                        <th id=\"T_80562138_0ec6_11ea_ac0d_acde48001122level0_row3\" class=\"row_heading level0 row3\" >4</th>\n",
       "                        <td id=\"T_80562138_0ec6_11ea_ac0d_acde48001122row3_col0\" class=\"data row3 col0\" >1.95918</td>\n",
       "                        <td id=\"T_80562138_0ec6_11ea_ac0d_acde48001122row3_col1\" class=\"data row3 col1\" >1.87755</td>\n",
       "                        <td id=\"T_80562138_0ec6_11ea_ac0d_acde48001122row3_col2\" class=\"data row3 col2\" >1.91837</td>\n",
       "                        <td id=\"T_80562138_0ec6_11ea_ac0d_acde48001122row3_col3\" class=\"data row3 col3\" >1.02041</td>\n",
       "                        <td id=\"T_80562138_0ec6_11ea_ac0d_acde48001122row3_col4\" class=\"data row3 col4\" >1.79592</td>\n",
       "                        <td id=\"T_80562138_0ec6_11ea_ac0d_acde48001122row3_col5\" class=\"data row3 col5\" >1.97959</td>\n",
       "            </tr>\n",
       "    </tbody></table>"
      ],
      "text/plain": [
       "<pandas.io.formats.style.Styler at 0x1046a1b00>"
      ]
     },
     "execution_count": 61,
     "metadata": {},
     "output_type": "execute_result"
    }
   ],
   "source": [
    "df.groupby('cluster')['bulls','buffalos','poultry','cows','goats','sheep'].mean().style.bar(align='mid',color =['#d65f5f','#5fba7d'])"
   ]
  },
  {
   "cell_type": "code",
   "execution_count": 62,
   "metadata": {},
   "outputs": [
    {
     "data": {
      "text/plain": [
       "cluster\n",
       "1    268.596491\n",
       "2    213.422819\n",
       "3    313.230769\n",
       "4    206.122449\n",
       "Name: biopesticide, dtype: float64"
      ]
     },
     "execution_count": 62,
     "metadata": {},
     "output_type": "execute_result"
    }
   ],
   "source": [
    "df.groupby('cluster')['biopesticide'].mean()"
   ]
  },
  {
   "cell_type": "code",
   "execution_count": 63,
   "metadata": {},
   "outputs": [
    {
     "data": {
      "text/plain": [
       "cluster\n",
       "1    3762.992281\n",
       "2    3658.500000\n",
       "3    4681.409231\n",
       "4    3658.500000\n",
       "Name: income_organic, dtype: float64"
      ]
     },
     "execution_count": 63,
     "metadata": {},
     "output_type": "execute_result"
    }
   ],
   "source": [
    "df.groupby('cluster')['income_organic'].mean()"
   ]
  },
  {
   "cell_type": "code",
   "execution_count": 64,
   "metadata": {},
   "outputs": [
    {
     "data": {
      "text/plain": [
       "<matplotlib.axes._subplots.AxesSubplot at 0x13036c5c0>"
      ]
     },
     "execution_count": 64,
     "metadata": {},
     "output_type": "execute_result"
    },
    {
     "data": {
      "image/png": "[encoded data removed]",
      "text/plain": [
       "<Figure size 432x288 with 1 Axes>"
      ]
     },
     "metadata": {
      "needs_background": "light"
     },
     "output_type": "display_data"
    }
   ],
   "source": [
    "sns.violinplot(x='cluster', y='income_organic', data=df)"
   ]
  },
  {
   "cell_type": "code",
   "execution_count": 65,
   "metadata": {},
   "outputs": [
    {
     "data": {
      "text/plain": [
       "<matplotlib.axes._subplots.AxesSubplot at 0x1303d3198>"
      ]
     },
     "execution_count": 65,
     "metadata": {},
     "output_type": "execute_result"
    },
    {
     "data": {
      "image/png": "[encoded data removed]",
      "text/plain": [
       "<Figure size 432x288 with 1 Axes>"
      ]
     },
     "metadata": {
      "needs_background": "light"
     },
     "output_type": "display_data"
    }
   ],
   "source": [
    "sns.violinplot(x='cluster', y='income_other', data=df.query('income_other < 50000'))"
   ]
  },
  {
   "cell_type": "code",
   "execution_count": 66,
   "metadata": {},
   "outputs": [
    {
     "data": {
      "text/plain": [
       "cluster\n",
       "1    0.543860\n",
       "2    0.567114\n",
       "3    0.561538\n",
       "4    0.530612\n",
       "Name: postharvest_acre, dtype: float64"
      ]
     },
     "execution_count": 66,
     "metadata": {},
     "output_type": "execute_result"
    }
   ],
   "source": [
    "df.groupby('cluster')['postharvest_acre'].mean()"
   ]
  },
  {
   "cell_type": "code",
   "execution_count": 67,
   "metadata": {},
   "outputs": [
    {
     "data": {
      "text/plain": [
       "cluster  group\n",
       "1        1        250\n",
       "         0         35\n",
       "2        1        149\n",
       "3        1         50\n",
       "         0         15\n",
       "4        1         49\n",
       "Name: group, dtype: int64"
      ]
     },
     "execution_count": 67,
     "metadata": {},
     "output_type": "execute_result"
    }
   ],
   "source": [
    "df.groupby('cluster').group.value_counts()"
   ]
  },
  {
   "cell_type": "code",
   "execution_count": null,
   "metadata": {},
   "outputs": [],
   "source": []
  }
 ],
 "metadata": {
  "kernelspec": {
   "display_name": "Python 3",
   "language": "python",
   "name": "python3"
  },
  "language_info": {
   "codemirror_mode": {
    "name": "ipython",
    "version": 3
   },
   "file_extension": ".py",
   "mimetype": "text/x-python",
   "name": "python",
   "nbconvert_exporter": "python",
   "pygments_lexer": "ipython3",
   "version": "3.7.3"
  }
 },
 "nbformat": 4,
 "nbformat_minor": 4
}
